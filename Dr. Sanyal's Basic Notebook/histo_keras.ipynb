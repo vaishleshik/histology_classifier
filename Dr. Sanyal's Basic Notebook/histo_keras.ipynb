{
 "cells": [
  {
   "cell_type": "code",
   "execution_count": 1,
   "metadata": {
    "colab": {
     "base_uri": "https://localhost:8080/",
     "height": 34
    },
    "colab_type": "code",
    "executionInfo": {
     "elapsed": 2278,
     "status": "ok",
     "timestamp": 1554560467721,
     "user": {
      "displayName": "Parikshit Sanyal",
      "photoUrl": "https://lh4.googleusercontent.com/-dotLG97DpP0/AAAAAAAAAAI/AAAAAAAADxg/tOcrxOhKMKY/s64/photo.jpg",
      "userId": "14332008225326919049"
     },
     "user_tz": -330
    },
    "id": "xn4LENBLSCqi",
    "outputId": "7a1f90e5-1092-4ecb-ee53-1a2f83acc4db"
   },
   "outputs": [
    {
     "name": "stderr",
     "output_type": "stream",
     "text": [
      "Using TensorFlow backend.\n"
     ]
    }
   ],
   "source": [
    "from keras.models import Sequential\n",
    "\"\"\"Import from keras_preprocessing not from keras.preprocessing, \n",
    "because Keras may or maynot contain the features discussed here depending upon when you read this article, \n",
    "until the keras_preprocessed library is updated in Keras use the github version.\"\"\"\n",
    "from keras_preprocessing.image import ImageDataGenerator\n",
    "from keras.layers import Dense, Activation, Flatten, Dropout, BatchNormalization\n",
    "from keras.layers import Conv2D, MaxPooling2D\n",
    "from keras import regularizers, optimizers\n",
    "import pandas as pd\n",
    "import numpy as np\n",
    "import json\n",
    "from sklearn.utils import shuffle\n",
    "#https://medium.com/@vijayabhaskar96/multi-label-image-classification-tutorial-with-keras-imagedatagenerator-cd541f8eaf24"
   ]
  },
  {
   "cell_type": "code",
   "execution_count": 0,
   "metadata": {
    "colab": {},
    "colab_type": "code",
    "id": "7tjET0ojVHVK"
   },
   "outputs": [],
   "source": [
    "from google.colab import drive\n",
    "drive.mount('/content/gdrive')"
   ]
  },
  {
   "cell_type": "code",
   "execution_count": 0,
   "metadata": {
    "colab": {
     "base_uri": "https://localhost:8080/",
     "height": 1071
    },
    "colab_type": "code",
    "executionInfo": {
     "elapsed": 1411,
     "status": "ok",
     "timestamp": 1554468165169,
     "user": {
      "displayName": "Parikshit Sanyal",
      "photoUrl": "https://lh4.googleusercontent.com/-dotLG97DpP0/AAAAAAAAAAI/AAAAAAAADxg/tOcrxOhKMKY/s64/photo.jpg",
      "userId": "14332008225326919049"
     },
     "user_tz": -330
    },
    "id": "gTgEqC8OSCqp",
    "outputId": "5dfabd87-cf63-44ac-c4a7-6f33c4b5389c"
   },
   "outputs": [
    {
     "data": {
      "text/plain": [
       "0          [SI]\n",
       "1          [SI]\n",
       "2          [SI]\n",
       "3          [SI]\n",
       "4          [SI]\n",
       "5          [SI]\n",
       "6          [SI]\n",
       "7          [SI]\n",
       "8          [SI]\n",
       "9          [SI]\n",
       "10         [SI]\n",
       "11       [Skin]\n",
       "12       [Skin]\n",
       "13       [Skin]\n",
       "14       [Skin]\n",
       "15       [Skin]\n",
       "16       [Skin]\n",
       "17       [Skin]\n",
       "18       [Skin]\n",
       "19     [Kidney]\n",
       "20     [Kidney]\n",
       "21     [Kidney]\n",
       "22     [Kidney]\n",
       "23     [Kidney]\n",
       "24     [Kidney]\n",
       "25     [Kidney]\n",
       "26     [Kidney]\n",
       "27     [Kidney]\n",
       "28     [Kidney]\n",
       "29    [Bladder]\n",
       "        ...    \n",
       "50       [Lung]\n",
       "51      [Brain]\n",
       "52      [Brain]\n",
       "53      [Brain]\n",
       "54      [Brain]\n",
       "55      [Brain]\n",
       "56      [Brain]\n",
       "57      [Brain]\n",
       "58      [Brain]\n",
       "59      [Brain]\n",
       "60      [Brain]\n",
       "61      [Liver]\n",
       "62      [Liver]\n",
       "63      [Liver]\n",
       "64      [Liver]\n",
       "65      [Liver]\n",
       "66      [Liver]\n",
       "67      [Liver]\n",
       "68      [Liver]\n",
       "69      [Liver]\n",
       "70      [Liver]\n",
       "71         [LI]\n",
       "72         [LI]\n",
       "73         [LI]\n",
       "74         [LI]\n",
       "75         [LI]\n",
       "76         [LI]\n",
       "77         [LI]\n",
       "78         [LI]\n",
       "79         [LI]\n",
       "Name: label, Length: 80, dtype: object"
      ]
     },
     "execution_count": 78,
     "metadata": {
      "tags": []
     },
     "output_type": "execute_result"
    }
   ],
   "source": [
    "df = pd.read_csv('/content/gdrive/My Drive/histo_keras/data_chec_resized/dat.csv',sep=',')\n",
    "df[\"label\"]=df[\"label\"].apply(lambda x:x.split(\",\"))\n",
    "df[\"label\"]"
   ]
  },
  {
   "cell_type": "code",
   "execution_count": 0,
   "metadata": {
    "colab": {
     "base_uri": "https://localhost:8080/",
     "height": 85
    },
    "colab_type": "code",
    "executionInfo": {
     "elapsed": 8773,
     "status": "ok",
     "timestamp": 1554468153728,
     "user": {
      "displayName": "Parikshit Sanyal",
      "photoUrl": "https://lh4.googleusercontent.com/-dotLG97DpP0/AAAAAAAAAAI/AAAAAAAADxg/tOcrxOhKMKY/s64/photo.jpg",
      "userId": "14332008225326919049"
     },
     "user_tz": -330
    },
    "id": "47jLYaYTZZuv",
    "outputId": "ff1ef4de-5298-415e-c3f5-d4700f092ea3"
   },
   "outputs": [
    {
     "name": "stdout",
     "output_type": "stream",
     "text": [
      "/content/gdrive/My Drive/histo_keras/data_chec_resized\n",
      "mv: cannot stat 'dat (1).csv': No such file or directory\n",
      " \u001b[0m\u001b[01;34mBladder\u001b[0m/   dat.csv   \u001b[01;34mLI\u001b[0m/      \u001b[01;34mLung\u001b[0m/   \u001b[01;34mSI\u001b[0m/    \u001b[01;34m'Sk muscle'\u001b[0m/\n",
      " \u001b[01;34mBrain\u001b[0m/     \u001b[01;34mKidney\u001b[0m/   \u001b[01;34mLiver\u001b[0m/   \u001b[01;34mpool\u001b[0m/   \u001b[01;34mSkin\u001b[0m/   \u001b[01;34mStomach\u001b[0m/\n"
     ]
    }
   ],
   "source": [
    "%cd /content/gdrive/My\\ Drive/histo_keras/data_chec_resized\n",
    "%mv 'dat (1).csv' 'dat.csv'\n",
    "%ls"
   ]
  },
  {
   "cell_type": "code",
   "execution_count": 0,
   "metadata": {
    "colab": {},
    "colab_type": "code",
    "id": "93GMc8NOapJ_"
   },
   "outputs": [],
   "source": [
    "# Shuffle df to get a mix of all classes\n",
    "df = shuffle(df)"
   ]
  },
  {
   "cell_type": "code",
   "execution_count": 0,
   "metadata": {
    "colab": {
     "base_uri": "https://localhost:8080/",
     "height": 306
    },
    "colab_type": "code",
    "executionInfo": {
     "elapsed": 5772,
     "status": "ok",
     "timestamp": 1554467037574,
     "user": {
      "displayName": "Parikshit Sanyal",
      "photoUrl": "https://lh4.googleusercontent.com/-dotLG97DpP0/AAAAAAAAAAI/AAAAAAAADxg/tOcrxOhKMKY/s64/photo.jpg",
      "userId": "14332008225326919049"
     },
     "user_tz": -330
    },
    "id": "WIKz3AkAcNMP",
    "outputId": "f3bea8e0-53d7-4ae6-e48c-d728f5f32733"
   },
   "outputs": [
    {
     "name": "stdout",
     "output_type": "stream",
     "text": [
      "/content/gdrive/My Drive/histo_keras/data_chec_resized/pool\n",
      "'Cerebrum 10.jpg'  'Kidney 6.jpg'  'Liver 3.jpg'  'Lung 8.jpg'  'Skin 4.jpg'\n",
      "'Cerebrum 1.jpg'   'Kidney 7.jpg'  'Liver 4.jpg'  'Lung 9.jpg'  'Skin 5.jpg'\n",
      "'Cerebrum 2.jpg'   'Kidney 8.jpg'  'Liver 5.jpg'   SI10.jpg     'Skin 7.jpg'\n",
      "'Cerebrum 3.jpg'   'Kidney 9.jpg'  'Liver 6.jpg'   SI11.jpg     'Skin 8.jpg'\n",
      "'Cerebrum 4.jpg'    LI11.jpg       'Liver 7.jpg'   SI1.jpg      'Skin 9.jpg'\n",
      "'Cerebrum 5.jpg'    LI1.jpg        'Liver 8.jpg'   SI2.jpg      'TE 10.jpg'\n",
      "'Cerebrum 6.jpg'    LI2.jpg        'Liver 9.jpg'   SI3.jpg      'TE 11.jpg'\n",
      "'Cerebrum 7.jpg'    LI3.jpg        'Lung 10.jpg'   SI4.jpg      'TE 1.jpg'\n",
      "'Cerebrum 8.jpg'    LI4.jpg        'Lung 11.jpg'   SI5.jpg      'TE 2.jpg'\n",
      "'Cerebrum 9.jpg'    LI5.jpg        'Lung 1.jpg'    SI6.jpg      'TE 3.jpg'\n",
      "'Kidney 10.jpg'     LI6.jpg        'Lung 2.jpg'    SI7.jpg      'TE 4.jpg'\n",
      "'Kidney 1.jpg'      LI7.jpg        'Lung 3.jpg'    SI8.jpg      'TE 5.jpg'\n",
      "'Kidney 2.jpg'      LI8.jpg        'Lung 4.jpg'    SI9.jpg      'TE 6.jpg'\n",
      "'Kidney 3.jpg'     'Liver 10.jpg'  'Lung 5.jpg'   'Skin 1.jpg'  'TE 7.jpg'\n",
      "'Kidney 4.jpg'     'Liver 1.jpg'   'Lung 6.jpg'   'Skin 2.jpg'  'TE 8.jpg'\n",
      "'Kidney 5.jpg'     'Liver 2.jpg'   'Lung 7.jpg'   'Skin 3.jpg'  'TE 9.jpg'\n"
     ]
    }
   ],
   "source": [
    "# Create pool directory of all resized images\n",
    "%cd pool\n",
    "%ls"
   ]
  },
  {
   "cell_type": "code",
   "execution_count": 0,
   "metadata": {
    "colab": {
     "base_uri": "https://localhost:8080/",
     "height": 1568
    },
    "colab_type": "code",
    "executionInfo": {
     "elapsed": 1426,
     "status": "ok",
     "timestamp": 1554474016124,
     "user": {
      "displayName": "Parikshit Sanyal",
      "photoUrl": "https://lh4.googleusercontent.com/-dotLG97DpP0/AAAAAAAAAAI/AAAAAAAADxg/tOcrxOhKMKY/s64/photo.jpg",
      "userId": "14332008225326919049"
     },
     "user_tz": -330
    },
    "id": "zs4aWZ_Cav8B",
    "outputId": "16155a45-aa5a-4404-968c-438b48ed2269"
   },
   "outputs": [
    {
     "data": {
      "text/html": [
       "<div>\n",
       "<style scoped>\n",
       "    .dataframe tbody tr th:only-of-type {\n",
       "        vertical-align: middle;\n",
       "    }\n",
       "\n",
       "    .dataframe tbody tr th {\n",
       "        vertical-align: top;\n",
       "    }\n",
       "\n",
       "    .dataframe thead th {\n",
       "        text-align: right;\n",
       "    }\n",
       "</style>\n",
       "<table border=\"1\" class=\"dataframe\">\n",
       "  <thead>\n",
       "    <tr style=\"text-align: right;\">\n",
       "      <th></th>\n",
       "      <th>filename</th>\n",
       "      <th>label</th>\n",
       "    </tr>\n",
       "  </thead>\n",
       "  <tbody>\n",
       "    <tr>\n",
       "      <th>35</th>\n",
       "      <td>TE 6.jpg</td>\n",
       "      <td>[Bladder]</td>\n",
       "    </tr>\n",
       "    <tr>\n",
       "      <th>68</th>\n",
       "      <td>Liver 10.jpg</td>\n",
       "      <td>[Liver]</td>\n",
       "    </tr>\n",
       "    <tr>\n",
       "      <th>56</th>\n",
       "      <td>Cerebrum 6.jpg</td>\n",
       "      <td>[Brain]</td>\n",
       "    </tr>\n",
       "    <tr>\n",
       "      <th>13</th>\n",
       "      <td>Skin 2.jpg</td>\n",
       "      <td>[Skin]</td>\n",
       "    </tr>\n",
       "    <tr>\n",
       "      <th>14</th>\n",
       "      <td>Skin 1.jpg</td>\n",
       "      <td>[Skin]</td>\n",
       "    </tr>\n",
       "    <tr>\n",
       "      <th>3</th>\n",
       "      <td>SI4.jpg</td>\n",
       "      <td>[SI]</td>\n",
       "    </tr>\n",
       "    <tr>\n",
       "      <th>19</th>\n",
       "      <td>Kidney 8.jpg</td>\n",
       "      <td>[Kidney]</td>\n",
       "    </tr>\n",
       "    <tr>\n",
       "      <th>4</th>\n",
       "      <td>SI6.jpg</td>\n",
       "      <td>[SI]</td>\n",
       "    </tr>\n",
       "    <tr>\n",
       "      <th>59</th>\n",
       "      <td>Cerebrum 8.jpg</td>\n",
       "      <td>[Brain]</td>\n",
       "    </tr>\n",
       "    <tr>\n",
       "      <th>28</th>\n",
       "      <td>Kidney 6.jpg</td>\n",
       "      <td>[Kidney]</td>\n",
       "    </tr>\n",
       "    <tr>\n",
       "      <th>44</th>\n",
       "      <td>Lung 11.jpg</td>\n",
       "      <td>[Lung]</td>\n",
       "    </tr>\n",
       "    <tr>\n",
       "      <th>53</th>\n",
       "      <td>Cerebrum 7.jpg</td>\n",
       "      <td>[Brain]</td>\n",
       "    </tr>\n",
       "    <tr>\n",
       "      <th>34</th>\n",
       "      <td>TE 8.jpg</td>\n",
       "      <td>[Bladder]</td>\n",
       "    </tr>\n",
       "    <tr>\n",
       "      <th>21</th>\n",
       "      <td>Kidney 4.jpg</td>\n",
       "      <td>[Kidney]</td>\n",
       "    </tr>\n",
       "    <tr>\n",
       "      <th>72</th>\n",
       "      <td>LI6.jpg</td>\n",
       "      <td>[LI]</td>\n",
       "    </tr>\n",
       "    <tr>\n",
       "      <th>33</th>\n",
       "      <td>TE 5.jpg</td>\n",
       "      <td>[Bladder]</td>\n",
       "    </tr>\n",
       "    <tr>\n",
       "      <th>71</th>\n",
       "      <td>LI8.jpg</td>\n",
       "      <td>[LI]</td>\n",
       "    </tr>\n",
       "    <tr>\n",
       "      <th>62</th>\n",
       "      <td>Liver 1.jpg</td>\n",
       "      <td>[Liver]</td>\n",
       "    </tr>\n",
       "    <tr>\n",
       "      <th>78</th>\n",
       "      <td>LI7.jpg</td>\n",
       "      <td>[LI]</td>\n",
       "    </tr>\n",
       "    <tr>\n",
       "      <th>25</th>\n",
       "      <td>Kidney 9.jpg</td>\n",
       "      <td>[Kidney]</td>\n",
       "    </tr>\n",
       "    <tr>\n",
       "      <th>61</th>\n",
       "      <td>Liver 9.jpg</td>\n",
       "      <td>[Liver]</td>\n",
       "    </tr>\n",
       "    <tr>\n",
       "      <th>30</th>\n",
       "      <td>TE 1.jpg</td>\n",
       "      <td>[Bladder]</td>\n",
       "    </tr>\n",
       "    <tr>\n",
       "      <th>12</th>\n",
       "      <td>Skin 4.jpg</td>\n",
       "      <td>[Skin]</td>\n",
       "    </tr>\n",
       "    <tr>\n",
       "      <th>29</th>\n",
       "      <td>TE 9.jpg</td>\n",
       "      <td>[Bladder]</td>\n",
       "    </tr>\n",
       "    <tr>\n",
       "      <th>38</th>\n",
       "      <td>TE 11.jpg</td>\n",
       "      <td>[Bladder]</td>\n",
       "    </tr>\n",
       "    <tr>\n",
       "      <th>69</th>\n",
       "      <td>Liver 6.jpg</td>\n",
       "      <td>[Liver]</td>\n",
       "    </tr>\n",
       "    <tr>\n",
       "      <th>66</th>\n",
       "      <td>Liver 5.jpg</td>\n",
       "      <td>[Liver]</td>\n",
       "    </tr>\n",
       "    <tr>\n",
       "      <th>0</th>\n",
       "      <td>SI9.jpg</td>\n",
       "      <td>[SI]</td>\n",
       "    </tr>\n",
       "    <tr>\n",
       "      <th>70</th>\n",
       "      <td>Liver 2.jpg</td>\n",
       "      <td>[Liver]</td>\n",
       "    </tr>\n",
       "    <tr>\n",
       "      <th>49</th>\n",
       "      <td>Lung 10.jpg</td>\n",
       "      <td>[Lung]</td>\n",
       "    </tr>\n",
       "    <tr>\n",
       "      <th>73</th>\n",
       "      <td>LI11.jpg</td>\n",
       "      <td>[LI]</td>\n",
       "    </tr>\n",
       "    <tr>\n",
       "      <th>55</th>\n",
       "      <td>Cerebrum 1.jpg</td>\n",
       "      <td>[Brain]</td>\n",
       "    </tr>\n",
       "    <tr>\n",
       "      <th>6</th>\n",
       "      <td>SI7.jpg</td>\n",
       "      <td>[SI]</td>\n",
       "    </tr>\n",
       "    <tr>\n",
       "      <th>63</th>\n",
       "      <td>Liver 4.jpg</td>\n",
       "      <td>[Liver]</td>\n",
       "    </tr>\n",
       "    <tr>\n",
       "      <th>1</th>\n",
       "      <td>SI2.jpg</td>\n",
       "      <td>[SI]</td>\n",
       "    </tr>\n",
       "    <tr>\n",
       "      <th>5</th>\n",
       "      <td>SI8.jpg</td>\n",
       "      <td>[SI]</td>\n",
       "    </tr>\n",
       "    <tr>\n",
       "      <th>23</th>\n",
       "      <td>Kidney 2.jpg</td>\n",
       "      <td>[Kidney]</td>\n",
       "    </tr>\n",
       "    <tr>\n",
       "      <th>52</th>\n",
       "      <td>Cerebrum 2.jpg</td>\n",
       "      <td>[Brain]</td>\n",
       "    </tr>\n",
       "    <tr>\n",
       "      <th>58</th>\n",
       "      <td>Cerebrum 10.jpg</td>\n",
       "      <td>[Brain]</td>\n",
       "    </tr>\n",
       "    <tr>\n",
       "      <th>50</th>\n",
       "      <td>Lung 3.jpg</td>\n",
       "      <td>[Lung]</td>\n",
       "    </tr>\n",
       "    <tr>\n",
       "      <th>26</th>\n",
       "      <td>Kidney 1.jpg</td>\n",
       "      <td>[Kidney]</td>\n",
       "    </tr>\n",
       "    <tr>\n",
       "      <th>48</th>\n",
       "      <td>Lung 4.jpg</td>\n",
       "      <td>[Lung]</td>\n",
       "    </tr>\n",
       "    <tr>\n",
       "      <th>41</th>\n",
       "      <td>Lung 6.jpg</td>\n",
       "      <td>[Lung]</td>\n",
       "    </tr>\n",
       "    <tr>\n",
       "      <th>8</th>\n",
       "      <td>SI3.jpg</td>\n",
       "      <td>[SI]</td>\n",
       "    </tr>\n",
       "    <tr>\n",
       "      <th>22</th>\n",
       "      <td>Kidney 7.jpg</td>\n",
       "      <td>[Kidney]</td>\n",
       "    </tr>\n",
       "    <tr>\n",
       "      <th>17</th>\n",
       "      <td>Skin 7.jpg</td>\n",
       "      <td>[Skin]</td>\n",
       "    </tr>\n",
       "    <tr>\n",
       "      <th>24</th>\n",
       "      <td>Kidney 5.jpg</td>\n",
       "      <td>[Kidney]</td>\n",
       "    </tr>\n",
       "    <tr>\n",
       "      <th>51</th>\n",
       "      <td>Cerebrum 5.jpg</td>\n",
       "      <td>[Brain]</td>\n",
       "    </tr>\n",
       "    <tr>\n",
       "      <th>11</th>\n",
       "      <td>Skin 3.jpg</td>\n",
       "      <td>[Skin]</td>\n",
       "    </tr>\n",
       "  </tbody>\n",
       "</table>\n",
       "</div>"
      ],
      "text/plain": [
       "           filename      label\n",
       "35         TE 6.jpg  [Bladder]\n",
       "68     Liver 10.jpg    [Liver]\n",
       "56   Cerebrum 6.jpg    [Brain]\n",
       "13       Skin 2.jpg     [Skin]\n",
       "14       Skin 1.jpg     [Skin]\n",
       "3           SI4.jpg       [SI]\n",
       "19     Kidney 8.jpg   [Kidney]\n",
       "4           SI6.jpg       [SI]\n",
       "59   Cerebrum 8.jpg    [Brain]\n",
       "28     Kidney 6.jpg   [Kidney]\n",
       "44      Lung 11.jpg     [Lung]\n",
       "53   Cerebrum 7.jpg    [Brain]\n",
       "34         TE 8.jpg  [Bladder]\n",
       "21     Kidney 4.jpg   [Kidney]\n",
       "72          LI6.jpg       [LI]\n",
       "33         TE 5.jpg  [Bladder]\n",
       "71          LI8.jpg       [LI]\n",
       "62      Liver 1.jpg    [Liver]\n",
       "78          LI7.jpg       [LI]\n",
       "25     Kidney 9.jpg   [Kidney]\n",
       "61      Liver 9.jpg    [Liver]\n",
       "30         TE 1.jpg  [Bladder]\n",
       "12       Skin 4.jpg     [Skin]\n",
       "29         TE 9.jpg  [Bladder]\n",
       "38        TE 11.jpg  [Bladder]\n",
       "69      Liver 6.jpg    [Liver]\n",
       "66      Liver 5.jpg    [Liver]\n",
       "0           SI9.jpg       [SI]\n",
       "70      Liver 2.jpg    [Liver]\n",
       "49      Lung 10.jpg     [Lung]\n",
       "73         LI11.jpg       [LI]\n",
       "55   Cerebrum 1.jpg    [Brain]\n",
       "6           SI7.jpg       [SI]\n",
       "63      Liver 4.jpg    [Liver]\n",
       "1           SI2.jpg       [SI]\n",
       "5           SI8.jpg       [SI]\n",
       "23     Kidney 2.jpg   [Kidney]\n",
       "52   Cerebrum 2.jpg    [Brain]\n",
       "58  Cerebrum 10.jpg    [Brain]\n",
       "50       Lung 3.jpg     [Lung]\n",
       "26     Kidney 1.jpg   [Kidney]\n",
       "48       Lung 4.jpg     [Lung]\n",
       "41       Lung 6.jpg     [Lung]\n",
       "8           SI3.jpg       [SI]\n",
       "22     Kidney 7.jpg   [Kidney]\n",
       "17       Skin 7.jpg     [Skin]\n",
       "24     Kidney 5.jpg   [Kidney]\n",
       "51   Cerebrum 5.jpg    [Brain]\n",
       "11       Skin 3.jpg     [Skin]"
      ]
     },
     "execution_count": 129,
     "metadata": {
      "tags": []
     },
     "output_type": "execute_result"
    }
   ],
   "source": [
    "df[0:49]"
   ]
  },
  {
   "cell_type": "code",
   "execution_count": 0,
   "metadata": {
    "colab": {
     "base_uri": "https://localhost:8080/",
     "height": 122
    },
    "colab_type": "code",
    "executionInfo": {
     "elapsed": 1925,
     "status": "ok",
     "timestamp": 1554474902507,
     "user": {
      "displayName": "Parikshit Sanyal",
      "photoUrl": "https://lh4.googleusercontent.com/-dotLG97DpP0/AAAAAAAAAAI/AAAAAAAADxg/tOcrxOhKMKY/s64/photo.jpg",
      "userId": "14332008225326919049"
     },
     "user_tz": -330
    },
    "id": "vhwEIjqPSCqy",
    "outputId": "0d7db6f1-740f-4bf7-cc68-5703d9dde805"
   },
   "outputs": [
    {
     "name": "stdout",
     "output_type": "stream",
     "text": [
      "Found 54 images belonging to 10 classes.\n",
      "Found 14 images belonging to 10 classes.\n",
      "Found 9 images.\n"
     ]
    },
    {
     "name": "stderr",
     "output_type": "stream",
     "text": [
      "/usr/local/lib/python3.6/dist-packages/keras_preprocessing/image/dataframe_iterator.py:194: UserWarning: `classes` will be ignored given the class_mode=\"None\"\n",
      "  .format(self.class_mode))\n"
     ]
    }
   ],
   "source": [
    "classes=[\"Bladder\",\"LI\",\"Lung\",\"Skin\",\"Stomach\",\"Brain\",\"Kidney\",\"Liver\",\"SI\",\"Sk muscle\"]\n",
    "\n",
    "datagen=ImageDataGenerator(rescale=1./255.)\n",
    "\n",
    "test_datagen=ImageDataGenerator(rescale=1./255.)\n",
    "\n",
    "train_generator=datagen.flow_from_dataframe(\n",
    "    dataframe=df[0:54],\n",
    "    directory=\"/content/gdrive/My Drive/histo_keras/data_chec_resized/pool\",\n",
    "    x_col=\"filename\",\n",
    "    y_col=\"label\",\n",
    "    batch_size=8,\n",
    "    seed=42,\n",
    "    shuffle=True,\n",
    "    class_mode=\"categorical\",\n",
    "    classes = classes,\n",
    "    target_size=(256,192))\n",
    "valid_generator=test_datagen.flow_from_dataframe(\n",
    "    dataframe=df[55:69],\n",
    "    directory=\"/content/gdrive/My Drive/histo_keras/data_chec_resized/pool\",\n",
    "    x_col=\"filename\",\n",
    "    y_col=\"label\",\n",
    "    batch_size=4,\n",
    "    seed=42,\n",
    "    shuffle=True,\n",
    "    class_mode=\"categorical\",\n",
    "    classes = classes,\n",
    "    target_size=(256,192))\n",
    "test_generator=test_datagen.flow_from_dataframe(\n",
    "    dataframe=df[70:79],\n",
    "    directory=\"/content/gdrive/My Drive/histo_keras/data_chec_resized/pool\",\n",
    "    x_col=\"filename\",\n",
    "    batch_size=1,\n",
    "    seed=42,\n",
    "    shuffle=False,\n",
    "    class_mode=None,\n",
    "    classes = classes,\n",
    "    target_size=(256,192))"
   ]
  },
  {
   "cell_type": "code",
   "execution_count": 0,
   "metadata": {
    "colab": {},
    "colab_type": "code",
    "id": "plDjqRa4SCq-"
   },
   "outputs": [],
   "source": [
    "model = Sequential()\n",
    "model.add(Conv2D(32, (3, 3), padding='same',\n",
    "                 input_shape=(256,192,3)))\n",
    "model.add(Activation('relu'))\n",
    "model.add(Conv2D(32, (3, 3)))\n",
    "model.add(Activation('relu'))\n",
    "model.add(MaxPooling2D(pool_size=(2, 2)))\n",
    "model.add(Dropout(0.25))\n",
    "model.add(Conv2D(64, (3, 3), padding='same'))\n",
    "model.add(Activation('relu'))\n",
    "model.add(Conv2D(64, (3, 3)))\n",
    "model.add(Activation('relu'))\n",
    "model.add(MaxPooling2D(pool_size=(2, 2)))\n",
    "model.add(Dropout(0.25))\n",
    "model.add(Flatten())\n",
    "model.add(Dense(512))\n",
    "model.add(Activation('relu'))\n",
    "model.add(Dropout(0.5))\n",
    "model.add(Dense(len(classes), activation='sigmoid'))\n",
    "model.compile(optimizers.rmsprop(lr=0.0001, decay=1e-6),loss=\"binary_crossentropy\",metrics=[\"accuracy\"])\n"
   ]
  },
  {
   "cell_type": "code",
   "execution_count": 0,
   "metadata": {
    "colab": {},
    "colab_type": "code",
    "id": "pv_WAPde5779"
   },
   "outputs": [],
   "source": [
    "model_json = model.to_json()\n",
    "with open(\"model_1.json\", \"w\") as json_file:\n",
    "    json_file.write(model_json)"
   ]
  },
  {
   "cell_type": "code",
   "execution_count": 0,
   "metadata": {
    "colab": {
     "base_uri": "https://localhost:8080/",
     "height": 34
    },
    "colab_type": "code",
    "executionInfo": {
     "elapsed": 1278,
     "status": "ok",
     "timestamp": 1554468204107,
     "user": {
      "displayName": "Parikshit Sanyal",
      "photoUrl": "https://lh4.googleusercontent.com/-dotLG97DpP0/AAAAAAAAAAI/AAAAAAAADxg/tOcrxOhKMKY/s64/photo.jpg",
      "userId": "14332008225326919049"
     },
     "user_tz": -330
    },
    "id": "9wX8q5xGSCrC",
    "outputId": "93c58237-5a95-4602-cacc-2d389cc71905"
   },
   "outputs": [
    {
     "data": {
      "text/plain": [
       "4"
      ]
     },
     "execution_count": 83,
     "metadata": {
      "tags": []
     },
     "output_type": "execute_result"
    }
   ],
   "source": [
    "valid_generator.n//valid_generator.batch_size"
   ]
  },
  {
   "cell_type": "code",
   "execution_count": 0,
   "metadata": {
    "colab": {
     "base_uri": "https://localhost:8080/",
     "height": 323
    },
    "colab_type": "code",
    "executionInfo": {
     "elapsed": 72487,
     "status": "ok",
     "timestamp": 1554474114637,
     "user": {
      "displayName": "Parikshit Sanyal",
      "photoUrl": "https://lh4.googleusercontent.com/-dotLG97DpP0/AAAAAAAAAAI/AAAAAAAADxg/tOcrxOhKMKY/s64/photo.jpg",
      "userId": "14332008225326919049"
     },
     "user_tz": -330
    },
    "id": "R0lhn4o7SCrJ",
    "outputId": "1a242c2e-bec6-4e5d-934a-d59e39886e94"
   },
   "outputs": [
    {
     "name": "stdout",
     "output_type": "stream",
     "text": [
      "Epoch 1/10\n",
      "2/2 [==============================] - 7s 4s/step - loss: 0.2869 - acc: 0.8875 - val_loss: 0.3035 - val_acc: 0.9250\n",
      "Epoch 2/10\n",
      "2/2 [==============================] - 7s 4s/step - loss: 0.3217 - acc: 0.8875 - val_loss: 0.3806 - val_acc: 0.8667\n",
      "Epoch 3/10\n",
      "2/2 [==============================] - 7s 4s/step - loss: 0.2511 - acc: 0.9062 - val_loss: 0.3263 - val_acc: 0.9000\n",
      "Epoch 4/10\n",
      "2/2 [==============================] - 7s 3s/step - loss: 0.2772 - acc: 0.9079 - val_loss: 0.3601 - val_acc: 0.8833\n",
      "Epoch 5/10\n",
      "2/2 [==============================] - 7s 4s/step - loss: 0.2551 - acc: 0.9062 - val_loss: 0.3335 - val_acc: 0.8750\n",
      "Epoch 6/10\n",
      "2/2 [==============================] - 7s 4s/step - loss: 0.2287 - acc: 0.9125 - val_loss: 0.3156 - val_acc: 0.9000\n",
      "Epoch 7/10\n",
      "2/2 [==============================] - 7s 3s/step - loss: 0.2614 - acc: 0.8986 - val_loss: 0.3186 - val_acc: 0.9000\n",
      "Epoch 8/10\n",
      "2/2 [==============================] - 7s 4s/step - loss: 0.2123 - acc: 0.9250 - val_loss: 0.2883 - val_acc: 0.9000\n",
      "Epoch 9/10\n",
      "1/2 [==============>...............] - ETA: 3s - loss: 0.1872 - acc: 0.9500"
     ]
    }
   ],
   "source": [
    "STEP_SIZE_TRAIN=train_generator.n//train_generator.batch_size\n",
    "STEP_SIZE_VALID=valid_generator.n//valid_generator.batch_size\n",
    "STEP_SIZE_TEST=test_generator.n//test_generator.batch_size\n",
    "h = model.fit_generator(generator=train_generator,\n",
    "                    steps_per_epoch=2,\n",
    "                    validation_data=valid_generator,\n",
    "                    validation_steps=2,\n",
    "                    epochs=10)"
   ]
  },
  {
   "cell_type": "code",
   "execution_count": 0,
   "metadata": {
    "colab": {
     "base_uri": "https://localhost:8080/",
     "height": 364
    },
    "colab_type": "code",
    "executionInfo": {
     "elapsed": 2438,
     "status": "ok",
     "timestamp": 1554474183356,
     "user": {
      "displayName": "Parikshit Sanyal",
      "photoUrl": "https://lh4.googleusercontent.com/-dotLG97DpP0/AAAAAAAAAAI/AAAAAAAADxg/tOcrxOhKMKY/s64/photo.jpg",
      "userId": "14332008225326919049"
     },
     "user_tz": -330
    },
    "id": "1aKhK68DSCrO",
    "outputId": "9a8f3ff8-ac28-41ac-f21a-aab48b96852e"
   },
   "outputs": [
    {
     "data": {
      "text/plain": [
       "[<matplotlib.lines.Line2D at 0x7f936fd27048>]"
      ]
     },
     "execution_count": 132,
     "metadata": {
      "tags": []
     },
     "output_type": "execute_result"
    },
    {
     "data": {
      "image/png": "[encoded data removed]",
      "text/plain": [
       "<Figure size 576x396 with 1 Axes>"
      ]
     },
     "metadata": {
      "tags": []
     },
     "output_type": "display_data"
    }
   ],
   "source": [
    "import matplotlib.pyplot as plt\n",
    "plt.plot(h.history['val_loss'])\n",
    "plt.plot(h.history['val_acc'])"
   ]
  },
  {
   "cell_type": "code",
   "execution_count": 0,
   "metadata": {
    "colab": {},
    "colab_type": "code",
    "id": "wIYt2QCt4f3l"
   },
   "outputs": [],
   "source": [
    "model.save_weights(\"w_1.h5\")"
   ]
  },
  {
   "cell_type": "code",
   "execution_count": 0,
   "metadata": {
    "colab": {},
    "colab_type": "code",
    "id": "4dzvkNXY6e7a"
   },
   "outputs": [],
   "source": [
    "json.dump(h.history, open('h_1.json', 'w'))"
   ]
  },
  {
   "cell_type": "code",
   "execution_count": 0,
   "metadata": {
    "colab": {
     "base_uri": "https://localhost:8080/",
     "height": 68
    },
    "colab_type": "code",
    "executionInfo": {
     "elapsed": 6022,
     "status": "ok",
     "timestamp": 1554474861864,
     "user": {
      "displayName": "Parikshit Sanyal",
      "photoUrl": "https://lh4.googleusercontent.com/-dotLG97DpP0/AAAAAAAAAAI/AAAAAAAADxg/tOcrxOhKMKY/s64/photo.jpg",
      "userId": "14332008225326919049"
     },
     "user_tz": -330
    },
    "id": "WHuvEVM3SCrV",
    "outputId": "ff8abb59-68bb-42d5-f4f4-a71b3d038c2d"
   },
   "outputs": [
    {
     "name": "stdout",
     "output_type": "stream",
     "text": [
      "6/6 [==============================] - 4s 682ms/step\n",
      "50\n",
      "48\n"
     ]
    }
   ],
   "source": [
    "train_generator.reset()\n",
    "pred=model.predict_generator(train_generator,\n",
    "steps=STEP_SIZE_TRAIN,\n",
    "verbose=1)\n",
    "print(len(train_generator.filenames))\n",
    "print(len(pred))"
   ]
  },
  {
   "cell_type": "code",
   "execution_count": 0,
   "metadata": {
    "colab": {
     "base_uri": "https://localhost:8080/",
     "height": 34
    },
    "colab_type": "code",
    "executionInfo": {
     "elapsed": 1786,
     "status": "ok",
     "timestamp": 1554474884459,
     "user": {
      "displayName": "Parikshit Sanyal",
      "photoUrl": "https://lh4.googleusercontent.com/-dotLG97DpP0/AAAAAAAAAAI/AAAAAAAADxg/tOcrxOhKMKY/s64/photo.jpg",
      "userId": "14332008225326919049"
     },
     "user_tz": -330
    },
    "id": "ngDe4qQb7D3h",
    "outputId": "7732e879-c36d-4f58-8f18-1fd43638cd3a"
   },
   "outputs": [
    {
     "data": {
      "text/plain": [
       "6"
      ]
     },
     "execution_count": 144,
     "metadata": {
      "tags": []
     },
     "output_type": "execute_result"
    }
   ],
   "source": [
    "STEP_SIZE_TRAIN"
   ]
  },
  {
   "cell_type": "code",
   "execution_count": 0,
   "metadata": {
    "colab": {
     "base_uri": "https://localhost:8080/",
     "height": 34
    },
    "colab_type": "code",
    "executionInfo": {
     "elapsed": 1871,
     "status": "ok",
     "timestamp": 1554473974827,
     "user": {
      "displayName": "Parikshit Sanyal",
      "photoUrl": "https://lh4.googleusercontent.com/-dotLG97DpP0/AAAAAAAAAAI/AAAAAAAADxg/tOcrxOhKMKY/s64/photo.jpg",
      "userId": "14332008225326919049"
     },
     "user_tz": -330
    },
    "id": "Z4VBH3myk2Oc",
    "outputId": "9bad7c5b-3d05-41da-c25d-1c8b496ea3be"
   },
   "outputs": [
    {
     "data": {
      "text/plain": [
       "8"
      ]
     },
     "execution_count": 128,
     "metadata": {
      "tags": []
     },
     "output_type": "execute_result"
    }
   ],
   "source": [
    "len(pred)"
   ]
  },
  {
   "cell_type": "code",
   "execution_count": 0,
   "metadata": {
    "colab": {},
    "colab_type": "code",
    "id": "cU8D9mm9kYU-"
   },
   "outputs": [],
   "source": [
    "pred_bool = (pred >0.3)\n",
    "pred_bool"
   ]
  },
  {
   "cell_type": "code",
   "execution_count": 0,
   "metadata": {
    "colab": {
     "base_uri": "https://localhost:8080/",
     "height": 724
    },
    "colab_type": "code",
    "executionInfo": {
     "elapsed": 1356,
     "status": "error",
     "timestamp": 1554469232421,
     "user": {
      "displayName": "Parikshit Sanyal",
      "photoUrl": "https://lh4.googleusercontent.com/-dotLG97DpP0/AAAAAAAAAAI/AAAAAAAADxg/tOcrxOhKMKY/s64/photo.jpg",
      "userId": "14332008225326919049"
     },
     "user_tz": -330
    },
    "id": "ZGP4xJdkkbuN",
    "outputId": "1ee8d099-7d3e-47b8-ad2e-100300f880c4"
   },
   "outputs": [
    {
     "name": "stdout",
     "output_type": "stream",
     "text": [
      "48\n",
      "49\n"
     ]
    },
    {
     "ename": "ValueError",
     "evalue": "ignored",
     "output_type": "error",
     "traceback": [
      "\u001b[0;31m---------------------------------------------------------------------------\u001b[0m",
      "\u001b[0;31mValueError\u001b[0m                                Traceback (most recent call last)",
      "\u001b[0;32m<ipython-input-121-0542513059b9>\u001b[0m in \u001b[0;36m<module>\u001b[0;34m()\u001b[0m\n\u001b[1;32m     12\u001b[0m \u001b[0mfilenames\u001b[0m\u001b[0;34m=\u001b[0m\u001b[0mtrain_generator\u001b[0m\u001b[0;34m.\u001b[0m\u001b[0mfilenames\u001b[0m\u001b[0;34m\u001b[0m\u001b[0;34m\u001b[0m\u001b[0m\n\u001b[1;32m     13\u001b[0m results=pd.DataFrame({\"Filename\":filenames,\n\u001b[0;32m---> 14\u001b[0;31m                       \"Predictions\":predictions})\n\u001b[0m\u001b[1;32m     15\u001b[0m \u001b[0mresults\u001b[0m\u001b[0;34m\u001b[0m\u001b[0;34m\u001b[0m\u001b[0m\n",
      "\u001b[0;32m/usr/local/lib/python3.6/dist-packages/pandas/core/frame.py\u001b[0m in \u001b[0;36m__init__\u001b[0;34m(self, data, index, columns, dtype, copy)\u001b[0m\n\u001b[1;32m    328\u001b[0m                                  dtype=dtype, copy=copy)\n\u001b[1;32m    329\u001b[0m         \u001b[0;32melif\u001b[0m \u001b[0misinstance\u001b[0m\u001b[0;34m(\u001b[0m\u001b[0mdata\u001b[0m\u001b[0;34m,\u001b[0m \u001b[0mdict\u001b[0m\u001b[0;34m)\u001b[0m\u001b[0;34m:\u001b[0m\u001b[0;34m\u001b[0m\u001b[0;34m\u001b[0m\u001b[0m\n\u001b[0;32m--> 330\u001b[0;31m             \u001b[0mmgr\u001b[0m \u001b[0;34m=\u001b[0m \u001b[0mself\u001b[0m\u001b[0;34m.\u001b[0m\u001b[0m_init_dict\u001b[0m\u001b[0;34m(\u001b[0m\u001b[0mdata\u001b[0m\u001b[0;34m,\u001b[0m \u001b[0mindex\u001b[0m\u001b[0;34m,\u001b[0m \u001b[0mcolumns\u001b[0m\u001b[0;34m,\u001b[0m \u001b[0mdtype\u001b[0m\u001b[0;34m=\u001b[0m\u001b[0mdtype\u001b[0m\u001b[0;34m)\u001b[0m\u001b[0;34m\u001b[0m\u001b[0;34m\u001b[0m\u001b[0m\n\u001b[0m\u001b[1;32m    331\u001b[0m         \u001b[0;32melif\u001b[0m \u001b[0misinstance\u001b[0m\u001b[0;34m(\u001b[0m\u001b[0mdata\u001b[0m\u001b[0;34m,\u001b[0m \u001b[0mma\u001b[0m\u001b[0;34m.\u001b[0m\u001b[0mMaskedArray\u001b[0m\u001b[0;34m)\u001b[0m\u001b[0;34m:\u001b[0m\u001b[0;34m\u001b[0m\u001b[0;34m\u001b[0m\u001b[0m\n\u001b[1;32m    332\u001b[0m             \u001b[0;32mimport\u001b[0m \u001b[0mnumpy\u001b[0m\u001b[0;34m.\u001b[0m\u001b[0mma\u001b[0m\u001b[0;34m.\u001b[0m\u001b[0mmrecords\u001b[0m \u001b[0;32mas\u001b[0m \u001b[0mmrecords\u001b[0m\u001b[0;34m\u001b[0m\u001b[0;34m\u001b[0m\u001b[0m\n",
      "\u001b[0;32m/usr/local/lib/python3.6/dist-packages/pandas/core/frame.py\u001b[0m in \u001b[0;36m_init_dict\u001b[0;34m(self, data, index, columns, dtype)\u001b[0m\n\u001b[1;32m    459\u001b[0m             \u001b[0marrays\u001b[0m \u001b[0;34m=\u001b[0m \u001b[0;34m[\u001b[0m\u001b[0mdata\u001b[0m\u001b[0;34m[\u001b[0m\u001b[0mk\u001b[0m\u001b[0;34m]\u001b[0m \u001b[0;32mfor\u001b[0m \u001b[0mk\u001b[0m \u001b[0;32min\u001b[0m \u001b[0mkeys\u001b[0m\u001b[0;34m]\u001b[0m\u001b[0;34m\u001b[0m\u001b[0;34m\u001b[0m\u001b[0m\n\u001b[1;32m    460\u001b[0m \u001b[0;34m\u001b[0m\u001b[0m\n\u001b[0;32m--> 461\u001b[0;31m         \u001b[0;32mreturn\u001b[0m \u001b[0m_arrays_to_mgr\u001b[0m\u001b[0;34m(\u001b[0m\u001b[0marrays\u001b[0m\u001b[0;34m,\u001b[0m \u001b[0mdata_names\u001b[0m\u001b[0;34m,\u001b[0m \u001b[0mindex\u001b[0m\u001b[0;34m,\u001b[0m \u001b[0mcolumns\u001b[0m\u001b[0;34m,\u001b[0m \u001b[0mdtype\u001b[0m\u001b[0;34m=\u001b[0m\u001b[0mdtype\u001b[0m\u001b[0;34m)\u001b[0m\u001b[0;34m\u001b[0m\u001b[0;34m\u001b[0m\u001b[0m\n\u001b[0m\u001b[1;32m    462\u001b[0m \u001b[0;34m\u001b[0m\u001b[0m\n\u001b[1;32m    463\u001b[0m     \u001b[0;32mdef\u001b[0m \u001b[0m_init_ndarray\u001b[0m\u001b[0;34m(\u001b[0m\u001b[0mself\u001b[0m\u001b[0;34m,\u001b[0m \u001b[0mvalues\u001b[0m\u001b[0;34m,\u001b[0m \u001b[0mindex\u001b[0m\u001b[0;34m,\u001b[0m \u001b[0mcolumns\u001b[0m\u001b[0;34m,\u001b[0m \u001b[0mdtype\u001b[0m\u001b[0;34m=\u001b[0m\u001b[0;32mNone\u001b[0m\u001b[0;34m,\u001b[0m \u001b[0mcopy\u001b[0m\u001b[0;34m=\u001b[0m\u001b[0;32mFalse\u001b[0m\u001b[0;34m)\u001b[0m\u001b[0;34m:\u001b[0m\u001b[0;34m\u001b[0m\u001b[0;34m\u001b[0m\u001b[0m\n",
      "\u001b[0;32m/usr/local/lib/python3.6/dist-packages/pandas/core/frame.py\u001b[0m in \u001b[0;36m_arrays_to_mgr\u001b[0;34m(arrays, arr_names, index, columns, dtype)\u001b[0m\n\u001b[1;32m   6161\u001b[0m     \u001b[0;31m# figure out the index, if necessary\u001b[0m\u001b[0;34m\u001b[0m\u001b[0;34m\u001b[0m\u001b[0;34m\u001b[0m\u001b[0m\n\u001b[1;32m   6162\u001b[0m     \u001b[0;32mif\u001b[0m \u001b[0mindex\u001b[0m \u001b[0;32mis\u001b[0m \u001b[0;32mNone\u001b[0m\u001b[0;34m:\u001b[0m\u001b[0;34m\u001b[0m\u001b[0;34m\u001b[0m\u001b[0m\n\u001b[0;32m-> 6163\u001b[0;31m         \u001b[0mindex\u001b[0m \u001b[0;34m=\u001b[0m \u001b[0mextract_index\u001b[0m\u001b[0;34m(\u001b[0m\u001b[0marrays\u001b[0m\u001b[0;34m)\u001b[0m\u001b[0;34m\u001b[0m\u001b[0;34m\u001b[0m\u001b[0m\n\u001b[0m\u001b[1;32m   6164\u001b[0m     \u001b[0;32melse\u001b[0m\u001b[0;34m:\u001b[0m\u001b[0;34m\u001b[0m\u001b[0;34m\u001b[0m\u001b[0m\n\u001b[1;32m   6165\u001b[0m         \u001b[0mindex\u001b[0m \u001b[0;34m=\u001b[0m \u001b[0m_ensure_index\u001b[0m\u001b[0;34m(\u001b[0m\u001b[0mindex\u001b[0m\u001b[0;34m)\u001b[0m\u001b[0;34m\u001b[0m\u001b[0;34m\u001b[0m\u001b[0m\n",
      "\u001b[0;32m/usr/local/lib/python3.6/dist-packages/pandas/core/frame.py\u001b[0m in \u001b[0;36mextract_index\u001b[0;34m(data)\u001b[0m\n\u001b[1;32m   6209\u001b[0m             \u001b[0mlengths\u001b[0m \u001b[0;34m=\u001b[0m \u001b[0mlist\u001b[0m\u001b[0;34m(\u001b[0m\u001b[0mset\u001b[0m\u001b[0;34m(\u001b[0m\u001b[0mraw_lengths\u001b[0m\u001b[0;34m)\u001b[0m\u001b[0;34m)\u001b[0m\u001b[0;34m\u001b[0m\u001b[0;34m\u001b[0m\u001b[0m\n\u001b[1;32m   6210\u001b[0m             \u001b[0;32mif\u001b[0m \u001b[0mlen\u001b[0m\u001b[0;34m(\u001b[0m\u001b[0mlengths\u001b[0m\u001b[0;34m)\u001b[0m \u001b[0;34m>\u001b[0m \u001b[0;36m1\u001b[0m\u001b[0;34m:\u001b[0m\u001b[0;34m\u001b[0m\u001b[0;34m\u001b[0m\u001b[0m\n\u001b[0;32m-> 6211\u001b[0;31m                 \u001b[0;32mraise\u001b[0m \u001b[0mValueError\u001b[0m\u001b[0;34m(\u001b[0m\u001b[0;34m'arrays must all be same length'\u001b[0m\u001b[0;34m)\u001b[0m\u001b[0;34m\u001b[0m\u001b[0;34m\u001b[0m\u001b[0m\n\u001b[0m\u001b[1;32m   6212\u001b[0m \u001b[0;34m\u001b[0m\u001b[0m\n\u001b[1;32m   6213\u001b[0m             \u001b[0;32mif\u001b[0m \u001b[0mhave_dicts\u001b[0m\u001b[0;34m:\u001b[0m\u001b[0;34m\u001b[0m\u001b[0;34m\u001b[0m\u001b[0m\n",
      "\u001b[0;31mValueError\u001b[0m: arrays must all be same length"
     ]
    }
   ],
   "source": [
    "predictions=[]\n",
    "labels = train_generator.class_indices\n",
    "labels = dict((v,k) for k,v in labels.items())\n",
    "for row in pred_bool:\n",
    "    l=[]\n",
    "    for index,cls in enumerate(row):\n",
    "        if cls:\n",
    "            l.append(labels[index])\n",
    "    predictions.append(\",\".join(l))\n",
    "print(len(predictions))\n",
    "print(len(filenames))\n",
    "filenames=train_generator.filenames\n",
    "results=pd.DataFrame({\"Filename\":filenames,\n",
    "                      \"Predictions\":predictions})\n",
    "results"
   ]
  },
  {
   "cell_type": "code",
   "execution_count": 0,
   "metadata": {
    "colab": {},
    "colab_type": "code",
    "id": "mSxiNYrKkShX"
   },
   "outputs": [],
   "source": [
    "test_generator.reset()\n",
    "pred=model.predict_generator(test_generator,\n",
    "steps=STEP_SIZE_TEST,\n",
    "verbose=1)"
   ]
  },
  {
   "cell_type": "code",
   "execution_count": 0,
   "metadata": {
    "colab": {},
    "colab_type": "code",
    "id": "p_kllF8-kCTw"
   },
   "outputs": [],
   "source": [
    "pred_bool = (pred >0.3)"
   ]
  },
  {
   "cell_type": "code",
   "execution_count": 0,
   "metadata": {
    "colab": {
     "base_uri": "https://localhost:8080/",
     "height": 340
    },
    "colab_type": "code",
    "executionInfo": {
     "elapsed": 1729,
     "status": "ok",
     "timestamp": 1554468764450,
     "user": {
      "displayName": "Parikshit Sanyal",
      "photoUrl": "https://lh4.googleusercontent.com/-dotLG97DpP0/AAAAAAAAAAI/AAAAAAAADxg/tOcrxOhKMKY/s64/photo.jpg",
      "userId": "14332008225326919049"
     },
     "user_tz": -330
    },
    "id": "5yCelrgzjoAs",
    "outputId": "25649e26-b8ad-4385-a50a-f427e2a6dc2d"
   },
   "outputs": [
    {
     "data": {
      "text/plain": [
       "array([[0.21300298, 0.25221795, 0.1883299 , 0.25052795, 0.28294885,\n",
       "        0.17389861, 0.2355597 , 0.11874866, 0.22519344, 0.09623055],\n",
       "       [0.25296164, 0.23950213, 0.21300906, 0.26180708, 0.283927  ,\n",
       "        0.23832089, 0.24021164, 0.13991082, 0.25280252, 0.11501409],\n",
       "       [0.29975235, 0.30226117, 0.28438938, 0.3147922 , 0.34228578,\n",
       "        0.2658707 , 0.3035639 , 0.20041144, 0.3063392 , 0.17479949],\n",
       "       [0.30443394, 0.24770838, 0.27482033, 0.28517717, 0.30874068,\n",
       "        0.28710985, 0.25760663, 0.17243621, 0.29452637, 0.14248882],\n",
       "       [0.24842519, 0.26019832, 0.21836728, 0.25632247, 0.2954532 ,\n",
       "        0.19258937, 0.24774238, 0.13580137, 0.24572444, 0.11332206],\n",
       "       [0.35322684, 0.30802017, 0.3220808 , 0.33297163, 0.35574287,\n",
       "        0.3279066 , 0.32031024, 0.2356334 , 0.341174  , 0.20855281],\n",
       "       [0.24696398, 0.29778862, 0.20708415, 0.28336978, 0.30873653,\n",
       "        0.20762312, 0.26310876, 0.15244195, 0.25349975, 0.1330829 ],\n",
       "       [0.24613416, 0.28452355, 0.21702304, 0.27617332, 0.30523458,\n",
       "        0.20659906, 0.2613987 , 0.14859438, 0.25106004, 0.12684883],\n",
       "       [0.24841279, 0.29058433, 0.20718962, 0.28160012, 0.30495816,\n",
       "        0.21380985, 0.26206207, 0.1522255 , 0.25421366, 0.13274735]],\n",
       "      dtype=float32)"
      ]
     },
     "execution_count": 101,
     "metadata": {
      "tags": []
     },
     "output_type": "execute_result"
    }
   ],
   "source": [
    "pred"
   ]
  },
  {
   "cell_type": "code",
   "execution_count": 0,
   "metadata": {
    "colab": {
     "base_uri": "https://localhost:8080/",
     "height": 328
    },
    "colab_type": "code",
    "executionInfo": {
     "elapsed": 2725,
     "status": "ok",
     "timestamp": 1554468850547,
     "user": {
      "displayName": "Parikshit Sanyal",
      "photoUrl": "https://lh4.googleusercontent.com/-dotLG97DpP0/AAAAAAAAAAI/AAAAAAAADxg/tOcrxOhKMKY/s64/photo.jpg",
      "userId": "14332008225326919049"
     },
     "user_tz": -330
    },
    "id": "Qb7Mb85NSCrb",
    "outputId": "7218242b-5dc6-4f34-f362-30d9a38c542c"
   },
   "outputs": [
    {
     "data": {
      "text/html": [
       "<div>\n",
       "<style scoped>\n",
       "    .dataframe tbody tr th:only-of-type {\n",
       "        vertical-align: middle;\n",
       "    }\n",
       "\n",
       "    .dataframe tbody tr th {\n",
       "        vertical-align: top;\n",
       "    }\n",
       "\n",
       "    .dataframe thead th {\n",
       "        text-align: right;\n",
       "    }\n",
       "</style>\n",
       "<table border=\"1\" class=\"dataframe\">\n",
       "  <thead>\n",
       "    <tr style=\"text-align: right;\">\n",
       "      <th></th>\n",
       "      <th>Filename</th>\n",
       "      <th>Predictions</th>\n",
       "    </tr>\n",
       "  </thead>\n",
       "  <tbody>\n",
       "    <tr>\n",
       "      <th>0</th>\n",
       "      <td>LI4.jpg</td>\n",
       "      <td></td>\n",
       "    </tr>\n",
       "    <tr>\n",
       "      <th>1</th>\n",
       "      <td>Lung 5.jpg</td>\n",
       "      <td></td>\n",
       "    </tr>\n",
       "    <tr>\n",
       "      <th>2</th>\n",
       "      <td>TE 4.jpg</td>\n",
       "      <td>Brain,LI,Liver,SI,Skin</td>\n",
       "    </tr>\n",
       "    <tr>\n",
       "      <th>3</th>\n",
       "      <td>Lung 9.jpg</td>\n",
       "      <td>Bladder,Liver</td>\n",
       "    </tr>\n",
       "    <tr>\n",
       "      <th>4</th>\n",
       "      <td>LI1.jpg</td>\n",
       "      <td></td>\n",
       "    </tr>\n",
       "    <tr>\n",
       "      <th>5</th>\n",
       "      <td>TE 10.jpg</td>\n",
       "      <td>Bladder,Brain,Kidney,LI,Liver,Lung,SI,Skin</td>\n",
       "    </tr>\n",
       "    <tr>\n",
       "      <th>6</th>\n",
       "      <td>Cerebrum 3.jpg</td>\n",
       "      <td>Liver</td>\n",
       "    </tr>\n",
       "    <tr>\n",
       "      <th>7</th>\n",
       "      <td>Liver 3.jpg</td>\n",
       "      <td>Liver</td>\n",
       "    </tr>\n",
       "    <tr>\n",
       "      <th>8</th>\n",
       "      <td>Cerebrum 4.jpg</td>\n",
       "      <td>Liver</td>\n",
       "    </tr>\n",
       "  </tbody>\n",
       "</table>\n",
       "</div>"
      ],
      "text/plain": [
       "         Filename                                 Predictions\n",
       "0         LI4.jpg                                            \n",
       "1      Lung 5.jpg                                            \n",
       "2        TE 4.jpg                      Brain,LI,Liver,SI,Skin\n",
       "3      Lung 9.jpg                               Bladder,Liver\n",
       "4         LI1.jpg                                            \n",
       "5       TE 10.jpg  Bladder,Brain,Kidney,LI,Liver,Lung,SI,Skin\n",
       "6  Cerebrum 3.jpg                                       Liver\n",
       "7     Liver 3.jpg                                       Liver\n",
       "8  Cerebrum 4.jpg                                       Liver"
      ]
     },
     "execution_count": 105,
     "metadata": {
      "tags": []
     },
     "output_type": "execute_result"
    }
   ],
   "source": [
    "predictions=[]\n",
    "labels = train_generator.class_indices\n",
    "labels = dict((v,k) for k,v in labels.items())\n",
    "for row in pred_bool:\n",
    "    l=[]\n",
    "    for index,cls in enumerate(row):\n",
    "        if cls:\n",
    "            l.append(labels[index])\n",
    "    predictions.append(\",\".join(l))\n",
    "filenames=test_generator.filenames\n",
    "results=pd.DataFrame({\"Filename\":filenames,\n",
    "                      \"Predictions\":predictions})\n",
    "results"
   ]
  }
 ],
 "metadata": {
  "colab": {
   "collapsed_sections": [],
   "name": "histo_keras.ipynb",
   "provenance": [],
   "version": "0.3.2"
  },
  "kernelspec": {
   "display_name": "Python 3",
   "language": "python",
   "name": "python3"
  },
  "language_info": {
   "codemirror_mode": {
    "name": "ipython",
    "version": 3
   },
   "file_extension": ".py",
   "mimetype": "text/x-python",
   "name": "python",
   "nbconvert_exporter": "python",
   "pygments_lexer": "ipython3",
   "version": "3.7.1"
  }
 },
 "nbformat": 4,
 "nbformat_minor": 1
}
