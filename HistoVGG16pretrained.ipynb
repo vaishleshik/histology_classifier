{
  "nbformat": 4,
  "nbformat_minor": 0,
  "metadata": {
    "colab": {
      "name": "HistoVGG16pretrained.ipynb",
      "version": "0.3.2",
      "provenance": [],
      "collapsed_sections": []
    },
    "kernelspec": {
      "name": "python3",
      "display_name": "Python 3"
    },
    "accelerator": "GPU"
  },
  "cells": [
    {
      "metadata": {
        "id": "iswYIFrc-IVS",
        "colab_type": "code",
        "colab": {
          "base_uri": "https://localhost:8080/",
          "height": 35
        },
        "outputId": "54591f69-f702-41f8-8054-017ba80a5682"
      },
      "cell_type": "code",
      "source": [
        "import cv2\n",
        "import pickle\n",
        "import os.path\n",
        "import matplotlib.pyplot as plt\n",
        "from imutils import paths\n",
        "from sklearn.preprocessing import LabelBinarizer\n",
        "import numpy as np\n",
        "from sklearn.model_selection import train_test_split\n",
        "from keras.layers import Dense,GlobalAveragePooling2D,Dropout\n",
        "from keras.applications.vgg16 import VGG16\n",
        "from keras.preprocessing import image\n",
        "from keras.applications.vgg16 import preprocess_input\n",
        "from keras.preprocessing.image import ImageDataGenerator\n",
        "from keras.models import Model\n",
        "from keras.models import model_from_json\n",
        "from sklearn import metrics\n",
        "from sklearn.metrics import roc_curve,auc,accuracy_score,classification_report\n",
        "from keras.optimizers import SGD\n",
        "from keras import models\n",
        "from sklearn import svm\n",
        "from sklearn.ensemble import RandomForestClassifier\n",
        "import glob"
      ],
      "execution_count": 1,
      "outputs": [
        {
          "output_type": "stream",
          "text": [
            "Using TensorFlow backend.\n"
          ],
          "name": "stderr"
        }
      ]
    },
    {
      "metadata": {
        "id": "6M7jDhM4-YQe",
        "colab_type": "code",
        "outputId": "acd5d080-f02b-4bc1-fcd8-80b13f5569d7",
        "colab": {
          "base_uri": "https://localhost:8080/",
          "height": 143
        }
      },
      "cell_type": "code",
      "source": [
        "!git clone https://github.com/magus96/histology_classifier.git"
      ],
      "execution_count": 2,
      "outputs": [
        {
          "output_type": "stream",
          "text": [
            "Cloning into 'histology_classifier'...\n",
            "remote: Enumerating objects: 104, done.\u001b[K\n",
            "remote: Counting objects:   0% (1/104)   \u001b[K\rremote: Counting objects:   1% (2/104)   \u001b[K\rremote: Counting objects:   2% (3/104)   \u001b[K\rremote: Counting objects:   3% (4/104)   \u001b[K\rremote: Counting objects:   4% (5/104)   \u001b[K\rremote: Counting objects:   5% (6/104)   \u001b[K\rremote: Counting objects:   6% (7/104)   \u001b[K\rremote: Counting objects:   7% (8/104)   \u001b[K\rremote: Counting objects:   8% (9/104)   \u001b[K\rremote: Counting objects:   9% (10/104)   \u001b[K\rremote: Counting objects:  10% (11/104)   \u001b[K\rremote: Counting objects:  11% (12/104)   \u001b[K\rremote: Counting objects:  12% (13/104)   \u001b[K\rremote: Counting objects:  13% (14/104)   \u001b[K\rremote: Counting objects:  14% (15/104)   \u001b[K\rremote: Counting objects:  15% (16/104)   \u001b[K\rremote: Counting objects:  16% (17/104)   \u001b[K\rremote: Counting objects:  17% (18/104)   \u001b[K\rremote: Counting objects:  18% (19/104)   \u001b[K\rremote: Counting objects:  19% (20/104)   \u001b[K\rremote: Counting objects:  20% (21/104)   \u001b[K\rremote: Counting objects:  21% (22/104)   \u001b[K\rremote: Counting objects:  22% (23/104)   \u001b[K\rremote: Counting objects:  23% (24/104)   \u001b[K\rremote: Counting objects:  24% (25/104)   \u001b[K\rremote: Counting objects:  25% (26/104)   \u001b[K\rremote: Counting objects:  26% (28/104)   \u001b[K\rremote: Counting objects:  27% (29/104)   \u001b[K\rremote: Counting objects:  28% (30/104)   \u001b[K\rremote: Counting objects:  29% (31/104)   \u001b[K\rremote: Counting objects:  30% (32/104)   \u001b[K\rremote: Counting objects:  31% (33/104)   \u001b[K\rremote: Counting objects:  32% (34/104)   \u001b[K\rremote: Counting objects:  33% (35/104)   \u001b[K\rremote: Counting objects:  34% (36/104)   \u001b[K\rremote: Counting objects:  35% (37/104)   \u001b[K\rremote: Counting objects:  36% (38/104)   \u001b[K\rremote: Counting objects:  37% (39/104)   \u001b[K\rremote: Counting objects:  38% (40/104)   \u001b[K\rremote: Counting objects:  39% (41/104)   \u001b[K\rremote: Counting objects:  40% (42/104)   \u001b[K\rremote: Counting objects:  41% (43/104)   \u001b[K\rremote: Counting objects:  42% (44/104)   \u001b[K\rremote: Counting objects:  43% (45/104)   \u001b[K\rremote: Counting objects:  44% (46/104)   \u001b[K\rremote: Counting objects:  45% (47/104)   \u001b[K\rremote: Counting objects:  46% (48/104)   \u001b[K\rremote: Counting objects:  47% (49/104)   \u001b[K\rremote: Counting objects:  48% (50/104)   \u001b[K\rremote: Counting objects:  49% (51/104)   \u001b[K\rremote: Counting objects:  50% (52/104)   \u001b[K\rremote: Counting objects:  51% (54/104)   \u001b[K\rremote: Counting objects:  52% (55/104)   \u001b[K\rremote: Counting objects:  53% (56/104)   \u001b[K\rremote: Counting objects:  54% (57/104)   \u001b[K\rremote: Counting objects:  55% (58/104)   \u001b[K\rremote: Counting objects:  56% (59/104)   \u001b[K\rremote: Counting objects:  57% (60/104)   \u001b[K\rremote: Counting objects:  58% (61/104)   \u001b[K\rremote: Counting objects:  59% (62/104)   \u001b[K\rremote: Counting objects:  60% (63/104)   \u001b[K\rremote: Counting objects:  61% (64/104)   \u001b[K\rremote: Counting objects:  62% (65/104)   \u001b[K\rremote: Counting objects:  63% (66/104)   \u001b[K\rremote: Counting objects:  64% (67/104)   \u001b[K\rremote: Counting objects:  65% (68/104)   \u001b[K\rremote: Counting objects:  66% (69/104)   \u001b[K\rremote: Counting objects:  67% (70/104)   \u001b[K\rremote: Counting objects:  68% (71/104)   \u001b[K\rremote: Counting objects:  69% (72/104)   \u001b[K\rremote: Counting objects:  70% (73/104)   \u001b[K\rremote: Counting objects:  71% (74/104)   \u001b[K\rremote: Counting objects:  72% (75/104)   \u001b[K\rremote: Counting objects:  73% (76/104)   \u001b[K\rremote: Counting objects:  74% (77/104)   \u001b[K\rremote: Counting objects:  75% (78/104)   \u001b[K\rremote: Counting objects:  76% (80/104)   \u001b[K\rremote: Counting objects:  77% (81/104)   \u001b[K\rremote: Counting objects:  78% (82/104)   \u001b[K\rremote: Counting objects:  79% (83/104)   \u001b[K\rremote: Counting objects:  80% (84/104)   \u001b[K\rremote: Counting objects:  81% (85/104)   \u001b[K\rremote: Counting objects:  82% (86/104)   \u001b[K\rremote: Counting objects:  83% (87/104)   \u001b[K\rremote: Counting objects:  84% (88/104)   \u001b[K\rremote: Counting objects:  85% (89/104)   \u001b[K\rremote: Counting objects:  86% (90/104)   \u001b[K\rremote: Counting objects:  87% (91/104)   \u001b[K\rremote: Counting objects:  88% (92/104)   \u001b[K\rremote: Counting objects:  89% (93/104)   \u001b[K\rremote: Counting objects:  90% (94/104)   \u001b[K\rremote: Counting objects:  91% (95/104)   \u001b[K\rremote: Counting objects:  92% (96/104)   \u001b[K\rremote: Counting objects:  93% (97/104)   \u001b[K\rremote: Counting objects:  94% (98/104)   \u001b[K\rremote: Counting objects:  95% (99/104)   \u001b[K\rremote: Counting objects:  96% (100/104)   \u001b[K\rremote: Counting objects:  97% (101/104)   \u001b[K\rremote: Counting objects:  98% (102/104)   \u001b[K\rremote: Counting objects:  99% (103/104)   \u001b[K\rremote: Counting objects: 100% (104/104)   \u001b[K\rremote: Counting objects: 100% (104/104), done.\u001b[K\n",
            "remote: Compressing objects:   0% (1/101)   \u001b[K\rremote: Compressing objects:   1% (2/101)   \u001b[K\rremote: Compressing objects:   2% (3/101)   \u001b[K\rremote: Compressing objects:   3% (4/101)   \u001b[K\rremote: Compressing objects:   4% (5/101)   \u001b[K\rremote: Compressing objects:   5% (6/101)   \u001b[K\rremote: Compressing objects:   6% (7/101)   \u001b[K\rremote: Compressing objects:   7% (8/101)   \u001b[K\rremote: Compressing objects:   8% (9/101)   \u001b[K\rremote: Compressing objects:   9% (10/101)   \u001b[K\rremote: Compressing objects:  10% (11/101)   \u001b[K\rremote: Compressing objects:  11% (12/101)   \u001b[K\rremote: Compressing objects:  12% (13/101)   \u001b[K\rremote: Compressing objects:  13% (14/101)   \u001b[K\rremote: Compressing objects:  14% (15/101)   \u001b[K\rremote: Compressing objects:  15% (16/101)   \u001b[K\rremote: Compressing objects:  16% (17/101)   \u001b[K\rremote: Compressing objects:  17% (18/101)   \u001b[K\rremote: Compressing objects:  18% (19/101)   \u001b[K\rremote: Compressing objects:  19% (20/101)   \u001b[K\rremote: Compressing objects:  20% (21/101)   \u001b[K\rremote: Compressing objects:  21% (22/101)   \u001b[K\rremote: Compressing objects:  22% (23/101)   \u001b[K\rremote: Compressing objects:  23% (24/101)   \u001b[K\rremote: Compressing objects:  24% (25/101)   \u001b[K\rremote: Compressing objects:  25% (26/101)   \u001b[K\rremote: Compressing objects:  26% (27/101)   \u001b[K\rremote: Compressing objects:  27% (28/101)   \u001b[K\rremote: Compressing objects:  28% (29/101)   \u001b[K\rremote: Compressing objects:  29% (30/101)   \u001b[K\rremote: Compressing objects:  30% (31/101)   \u001b[K\rremote: Compressing objects:  31% (32/101)   \u001b[K\rremote: Compressing objects:  32% (33/101)   \u001b[K\rremote: Compressing objects:  33% (34/101)   \u001b[K\rremote: Compressing objects:  34% (35/101)   \u001b[K\rremote: Compressing objects:  35% (36/101)   \u001b[K\rremote: Compressing objects:  36% (37/101)   \u001b[K\rremote: Compressing objects:  37% (38/101)   \u001b[K\rremote: Compressing objects:  38% (39/101)   \u001b[K\rremote: Compressing objects:  39% (40/101)   \u001b[K\rremote: Compressing objects:  40% (41/101)   \u001b[K\rremote: Compressing objects:  41% (42/101)   \u001b[K\rremote: Compressing objects:  42% (43/101)   \u001b[K\rremote: Compressing objects:  43% (44/101)   \u001b[K\rremote: Compressing objects:  44% (45/101)   \u001b[K\rremote: Compressing objects:  45% (46/101)   \u001b[K\rremote: Compressing objects:  46% (47/101)   \u001b[K\rremote: Compressing objects:  47% (48/101)   \u001b[K\rremote: Compressing objects:  48% (49/101)   \u001b[K\rremote: Compressing objects:  49% (50/101)   \u001b[K\rremote: Compressing objects:  50% (51/101)   \u001b[K\rremote: Compressing objects:  51% (52/101)   \u001b[K\rremote: Compressing objects:  52% (53/101)   \u001b[K\rremote: Compressing objects:  53% (54/101)   \u001b[K\rremote: Compressing objects:  54% (55/101)   \u001b[K\rremote: Compressing objects:  55% (56/101)   \u001b[K\rremote: Compressing objects:  56% (57/101)   \u001b[K\rremote: Compressing objects:  57% (58/101)   \u001b[K\rremote: Compressing objects:  58% (59/101)   \u001b[K\rremote: Compressing objects:  59% (60/101)   \u001b[K\rremote: Compressing objects:  60% (61/101)   \u001b[K\rremote: Compressing objects:  61% (62/101)   \u001b[K\rremote: Compressing objects:  62% (63/101)   \u001b[K\rremote: Compressing objects:  63% (64/101)   \u001b[K\rremote: Compressing objects:  64% (65/101)   \u001b[K\rremote: Compressing objects:  65% (66/101)   \u001b[K\rremote: Compressing objects:  66% (67/101)   \u001b[K\rremote: Compressing objects:  67% (68/101)   \u001b[K\rremote: Compressing objects:  68% (69/101)   \u001b[K\rremote: Compressing objects:  69% (70/101)   \u001b[K\rremote: Compressing objects:  70% (71/101)   \u001b[K\rremote: Compressing objects:  71% (72/101)   \u001b[K\rremote: Compressing objects:  72% (73/101)   \u001b[K\rremote: Compressing objects:  73% (74/101)   \u001b[K\rremote: Compressing objects:  74% (75/101)   \u001b[K\rremote: Compressing objects:  75% (76/101)   \u001b[K\rremote: Compressing objects:  76% (77/101)   \u001b[K\rremote: Compressing objects:  77% (78/101)   \u001b[K\rremote: Compressing objects:  78% (79/101)   \u001b[K\rremote: Compressing objects:  79% (80/101)   \u001b[K\rremote: Compressing objects:  80% (81/101)   \u001b[K\rremote: Compressing objects:  81% (82/101)   \u001b[K\rremote: Compressing objects:  82% (83/101)   \u001b[K\rremote: Compressing objects:  83% (84/101)   \u001b[K\rremote: Compressing objects:  84% (85/101)   \u001b[K\rremote: Compressing objects:  85% (86/101)   \u001b[K\rremote: Compressing objects:  86% (87/101)   \u001b[K\rremote: Compressing objects:  87% (88/101)   \u001b[K\rremote: Compressing objects:  88% (89/101)   \u001b[K\rremote: Compressing objects:  89% (90/101)   \u001b[K\rremote: Compressing objects:  90% (91/101)   \u001b[K\rremote: Compressing objects:  91% (92/101)   \u001b[K\rremote: Compressing objects:  92% (93/101)   \u001b[K\rremote: Compressing objects:  93% (94/101)   \u001b[K\rremote: Compressing objects:  94% (95/101)   \u001b[K\rremote: Compressing objects:  95% (96/101)   \u001b[K\rremote: Compressing objects:  96% (97/101)   \u001b[K\rremote: Compressing objects:  97% (98/101)   \u001b[K\rremote: Compressing objects:  98% (99/101)   \u001b[K\rremote: Compressing objects:  99% (100/101)   \u001b[K\rremote: Compressing objects: 100% (101/101)   \u001b[K\rremote: Compressing objects: 100% (101/101), done.\u001b[K\n",
            "Receiving objects:   0% (1/104)   \rReceiving objects:   1% (2/104)   \rReceiving objects:   2% (3/104)   \rReceiving objects:   3% (4/104)   \rReceiving objects:   4% (5/104)   \rReceiving objects:   5% (6/104)   \rReceiving objects:   6% (7/104)   \rReceiving objects:   7% (8/104)   \rReceiving objects:   8% (9/104)   \rReceiving objects:   9% (10/104)   \rReceiving objects:  10% (11/104)   \rReceiving objects:  11% (12/104)   \rReceiving objects:  12% (13/104)   \rReceiving objects:  13% (14/104)   \rReceiving objects:  14% (15/104)   \rReceiving objects:  15% (16/104)   \rReceiving objects:  16% (17/104)   \rReceiving objects:  17% (18/104)   \rReceiving objects:  18% (19/104)   \rReceiving objects:  19% (20/104)   \rReceiving objects:  20% (21/104)   \rReceiving objects:  21% (22/104)   \rReceiving objects:  22% (23/104)   \rReceiving objects:  23% (24/104)   \rReceiving objects:  24% (25/104)   \rReceiving objects:  25% (26/104)   \rReceiving objects:  26% (28/104)   \rReceiving objects:  27% (29/104)   \rReceiving objects:  28% (30/104)   \rReceiving objects:  29% (31/104)   \rReceiving objects:  30% (32/104)   \rReceiving objects:  31% (33/104)   \rReceiving objects:  32% (34/104)   \rReceiving objects:  33% (35/104)   \rReceiving objects:  34% (36/104)   \rReceiving objects:  35% (37/104)   \rReceiving objects:  36% (38/104)   \rReceiving objects:  37% (39/104)   \rReceiving objects:  38% (40/104)   \rReceiving objects:  39% (41/104)   \rReceiving objects:  40% (42/104)   \rReceiving objects:  41% (43/104)   \rReceiving objects:  42% (44/104)   \rReceiving objects:  43% (45/104)   \rReceiving objects:  44% (46/104)   \rReceiving objects:  45% (47/104)   \rReceiving objects:  46% (48/104)   \rReceiving objects:  47% (49/104)   \rReceiving objects:  48% (50/104)   \rReceiving objects:  49% (51/104)   \rReceiving objects:  50% (52/104)   \rReceiving objects:  51% (54/104)   \rReceiving objects:  52% (55/104)   \rReceiving objects:  53% (56/104)   \rReceiving objects:  54% (57/104)   \rReceiving objects:  55% (58/104)   \rReceiving objects:  56% (59/104)   \rReceiving objects:  57% (60/104)   \rReceiving objects:  58% (61/104)   \rReceiving objects:  59% (62/104)   \rReceiving objects:  60% (63/104)   \rReceiving objects:  61% (64/104)   \rReceiving objects:  62% (65/104)   \rReceiving objects:  63% (66/104)   \rReceiving objects:  64% (67/104)   \rReceiving objects:  65% (68/104)   \rReceiving objects:  66% (69/104)   \rReceiving objects:  67% (70/104)   \rReceiving objects:  68% (71/104)   \rReceiving objects:  69% (72/104)   \rReceiving objects:  70% (73/104)   \rReceiving objects:  71% (74/104)   \rReceiving objects:  72% (75/104)   \rReceiving objects:  73% (76/104)   \rReceiving objects:  74% (77/104)   \rReceiving objects:  75% (78/104)   \rReceiving objects:  76% (80/104)   \rReceiving objects:  77% (81/104)   \rReceiving objects:  78% (82/104)   \rReceiving objects:  79% (83/104)   \rReceiving objects:  80% (84/104)   \rReceiving objects:  81% (85/104)   \rReceiving objects:  82% (86/104)   \rReceiving objects:  83% (87/104)   \rReceiving objects:  84% (88/104)   \rReceiving objects:  85% (89/104)   \rReceiving objects:  86% (90/104)   \rReceiving objects:  87% (91/104)   \rReceiving objects:  88% (92/104)   \rReceiving objects:  89% (93/104)   \rReceiving objects:  90% (94/104)   \rReceiving objects:  91% (95/104)   \rremote: Total 104 (delta 4), reused 90 (delta 0), pack-reused 0\u001b[K\n",
            "Receiving objects:  92% (96/104)   \rReceiving objects:  93% (97/104)   \rReceiving objects:  94% (98/104)   \rReceiving objects:  95% (99/104)   \rReceiving objects:  96% (100/104)   \rReceiving objects:  97% (101/104)   \rReceiving objects:  98% (102/104)   \rReceiving objects:  99% (103/104)   \rReceiving objects: 100% (104/104)   \rReceiving objects: 100% (104/104), 4.18 MiB | 29.29 MiB/s, done.\n",
            "Resolving deltas:   0% (0/4)   \rResolving deltas:  50% (2/4)   \rResolving deltas:  75% (3/4)   \rResolving deltas: 100% (4/4)   \rResolving deltas: 100% (4/4), done.\n"
          ],
          "name": "stdout"
        }
      ]
    },
    {
      "metadata": {
        "id": "fg7Kux51-qES",
        "colab_type": "code",
        "colab": {
          "base_uri": "https://localhost:8080/",
          "height": 35
        },
        "outputId": "e643d3c7-d186-419d-99a3-b9e4e0b8f85b"
      },
      "cell_type": "code",
      "source": [
        "cd '/content/histology_classifier/'"
      ],
      "execution_count": 3,
      "outputs": [
        {
          "output_type": "stream",
          "text": [
            "/content/histology_classifier\n"
          ],
          "name": "stdout"
        }
      ]
    },
    {
      "metadata": {
        "id": "9J2uNwtjE5_T",
        "colab_type": "code",
        "colab": {}
      },
      "cell_type": "code",
      "source": [
        "path = glob.glob(\"/content/histology_classifier/data_chec_resized/Skin/*.jpg\")\n",
        "\n",
        "for img in path:\n",
        "    n = cv2.imread(img)\n",
        "    cv_img.append(n)\n",
        "    label=img.split(os.path.sep)[-2]\n",
        "    labels.append(label)"
      ],
      "execution_count": 0,
      "outputs": []
    },
    {
      "metadata": {
        "id": "idMB_Yoj-478",
        "colab_type": "code",
        "colab": {
          "base_uri": "https://localhost:8080/",
          "height": 215
        },
        "outputId": "738efa29-7cb0-42b7-ad79-93988ed6b877"
      },
      "cell_type": "code",
      "source": [
        "data = np.array(cv_img, dtype=\"float\")/ 255.0\n",
        "labels=np.array(labels)\n",
        "print(data.shape)\n",
        "print(labels.shape)\n",
        "print(labels)"
      ],
      "execution_count": 12,
      "outputs": [
        {
          "output_type": "stream",
          "text": [
            "(79, 192, 256, 3)\n",
            "(79,)\n",
            "['Bladder' 'Bladder' 'Bladder' 'Bladder' 'Bladder' 'Bladder' 'Bladder'\n",
            " 'Bladder' 'Bladder' 'Bladder' 'Bladder' 'Brain' 'Brain' 'Brain' 'Brain'\n",
            " 'Brain' 'Brain' 'Brain' 'Brain' 'Brain' 'Brain' 'Kidney' 'Kidney'\n",
            " 'Kidney' 'Kidney' 'Kidney' 'Kidney' 'Kidney' 'Kidney' 'Kidney' 'Kidney'\n",
            " 'LI' 'LI' 'LI' 'LI' 'LI' 'LI' 'LI' 'LI' 'LI' 'Liver' 'Liver' 'Liver'\n",
            " 'Liver' 'Liver' 'Liver' 'Liver' 'Liver' 'Liver' 'Liver' 'Lung' 'Lung'\n",
            " 'Lung' 'Lung' 'Lung' 'Lung' 'Lung' 'Lung' 'Lung' 'Lung' 'Lung' 'SI' 'SI'\n",
            " 'SI' 'SI' 'SI' 'SI' 'SI' 'SI' 'SI' 'SI' 'SI' 'Skin' 'Skin' 'Skin' 'Skin'\n",
            " 'Skin' 'Skin' 'Skin']\n"
          ],
          "name": "stdout"
        }
      ]
    },
    {
      "metadata": {
        "id": "2Gtj7SNK_5BG",
        "colab_type": "code",
        "colab": {
          "base_uri": "https://localhost:8080/",
          "height": 35
        },
        "outputId": "395b72fd-c2e4-4d9f-f6d8-4818aeafd71b"
      },
      "cell_type": "code",
      "source": [
        "lb = LabelBinarizer().fit(labels)\n",
        "labels = lb.transform(labels)\n",
        "\n",
        "print(labels.shape)"
      ],
      "execution_count": 13,
      "outputs": [
        {
          "output_type": "stream",
          "text": [
            "(79, 8)\n"
          ],
          "name": "stdout"
        }
      ]
    },
    {
      "metadata": {
        "id": "KYsC970lKUCV",
        "colab_type": "code",
        "colab": {}
      },
      "cell_type": "code",
      "source": [
        "X_train,X_test,y_train,y_test=train_test_split(data,labels,test_size=0.2,random_state=42)"
      ],
      "execution_count": 0,
      "outputs": []
    },
    {
      "metadata": {
        "id": "CM9qOT5qKtl3",
        "colab_type": "code",
        "colab": {
          "base_uri": "https://localhost:8080/",
          "height": 35
        },
        "outputId": "c7197d81-dae4-439d-b551-cc7e6f93f888"
      },
      "cell_type": "code",
      "source": [
        "\n",
        "print(X_train.shape)"
      ],
      "execution_count": 15,
      "outputs": [
        {
          "output_type": "stream",
          "text": [
            "(63, 192, 256, 3)\n"
          ],
          "name": "stdout"
        }
      ]
    },
    {
      "metadata": {
        "id": "xZlV_H6RNvWZ",
        "colab_type": "code",
        "colab": {
          "base_uri": "https://localhost:8080/",
          "height": 127
        },
        "outputId": "d6814f91-7316-4ea5-f815-23559e1507e6"
      },
      "cell_type": "code",
      "source": [
        "vgg_conv = VGG16(weights='imagenet',include_top=False,input_shape=(192, 256, 3))"
      ],
      "execution_count": 16,
      "outputs": [
        {
          "output_type": "stream",
          "text": [
            "WARNING:tensorflow:From /usr/local/lib/python3.6/dist-packages/tensorflow/python/framework/op_def_library.py:263: colocate_with (from tensorflow.python.framework.ops) is deprecated and will be removed in a future version.\n",
            "Instructions for updating:\n",
            "Colocations handled automatically by placer.\n",
            "Downloading data from https://github.com/fchollet/deep-learning-models/releases/download/v0.1/vgg16_weights_tf_dim_ordering_tf_kernels_notop.h5\n",
            "58892288/58889256 [==============================] - 1s 0us/step\n"
          ],
          "name": "stdout"
        }
      ]
    },
    {
      "metadata": {
        "id": "W_mOwNzdOOk9",
        "colab_type": "code",
        "colab": {}
      },
      "cell_type": "code",
      "source": [
        "nTrain=63"
      ],
      "execution_count": 0,
      "outputs": []
    },
    {
      "metadata": {
        "id": "ki9bVJy0Ohre",
        "colab_type": "code",
        "colab": {}
      },
      "cell_type": "code",
      "source": [
        "train_features = np.zeros(shape=(nTrain, 6,8,512))\n",
        "#datagen.fit(data)\n"
      ],
      "execution_count": 0,
      "outputs": []
    },
    {
      "metadata": {
        "id": "0YF_VFNfO8hT",
        "colab_type": "code",
        "colab": {
          "base_uri": "https://localhost:8080/",
          "height": 35
        },
        "outputId": "ea0fb166-c521-41d2-d7f0-385a9d6dc0c1"
      },
      "cell_type": "code",
      "source": [
        "train_features=vgg_conv.predict(X_train)\n",
        "print(train_features.shape)"
      ],
      "execution_count": 19,
      "outputs": [
        {
          "output_type": "stream",
          "text": [
            "(63, 6, 8, 512)\n"
          ],
          "name": "stdout"
        }
      ]
    },
    {
      "metadata": {
        "id": "tgV8Z4fsP08Y",
        "colab_type": "code",
        "colab": {}
      },
      "cell_type": "code",
      "source": [
        "\n",
        "train_features = np.reshape(train_features, (nTrain, 6 * 8 * 512))"
      ],
      "execution_count": 0,
      "outputs": []
    },
    {
      "metadata": {
        "id": "TW2GvD0U7swj",
        "colab_type": "code",
        "colab": {}
      },
      "cell_type": "code",
      "source": [
        "from sklearn.linear_model import LogisticRegression\n"
      ],
      "execution_count": 0,
      "outputs": []
    },
    {
      "metadata": {
        "id": "c2dmWnTNN2Ax",
        "colab_type": "code",
        "colab": {
          "base_uri": "https://localhost:8080/",
          "height": 127
        },
        "outputId": "ea76f962-30c5-4fef-ffa6-e0f8b93dd6f7"
      },
      "cell_type": "code",
      "source": [
        "!pip install scikit-multilearn"
      ],
      "execution_count": 22,
      "outputs": [
        {
          "output_type": "stream",
          "text": [
            "Collecting scikit-multilearn\n",
            "\u001b[?25l  Downloading https://files.pythonhosted.org/packages/bb/1f/e6ff649c72a1cdf2c7a1d31eb21705110ce1c5d3e7e26b2cc300e1637272/scikit_multilearn-0.2.0-py3-none-any.whl (89kB)\n",
            "\r\u001b[K    11% |███▊                            | 10kB 17.3MB/s eta 0:00:01\r\u001b[K    22% |███████▍                        | 20kB 1.8MB/s eta 0:00:01\r\u001b[K    34% |███████████                     | 30kB 2.7MB/s eta 0:00:01\r\u001b[K    45% |██████████████▊                 | 40kB 1.8MB/s eta 0:00:01\r\u001b[K    57% |██████████████████▍             | 51kB 2.2MB/s eta 0:00:01\r\u001b[K    68% |██████████████████████          | 61kB 2.6MB/s eta 0:00:01\r\u001b[K    80% |█████████████████████████▊      | 71kB 3.0MB/s eta 0:00:01\r\u001b[K    91% |█████████████████████████████▍  | 81kB 3.4MB/s eta 0:00:01\r\u001b[K    100% |████████████████████████████████| 92kB 3.5MB/s \n",
            "\u001b[?25hInstalling collected packages: scikit-multilearn\n",
            "Successfully installed scikit-multilearn-0.2.0\n"
          ],
          "name": "stdout"
        }
      ]
    },
    {
      "metadata": {
        "id": "o4ASEEl2NoV8",
        "colab_type": "code",
        "colab": {}
      },
      "cell_type": "code",
      "source": [
        "from skmultilearn.problem_transform import ClassifierChain\n",
        "classifier = ClassifierChain(LogisticRegression())"
      ],
      "execution_count": 0,
      "outputs": []
    },
    {
      "metadata": {
        "id": "Rs0K_0vuODD9",
        "colab_type": "code",
        "colab": {
          "base_uri": "https://localhost:8080/",
          "height": 415
        },
        "outputId": "aae863e1-b01b-4b5f-d008-2cd1df47db1e"
      },
      "cell_type": "code",
      "source": [
        "classifier.fit(train_features,y_train)"
      ],
      "execution_count": 24,
      "outputs": [
        {
          "output_type": "stream",
          "text": [
            "/usr/local/lib/python3.6/dist-packages/sklearn/linear_model/logistic.py:433: FutureWarning: Default solver will be changed to 'lbfgs' in 0.22. Specify a solver to silence this warning.\n",
            "  FutureWarning)\n",
            "/usr/local/lib/python3.6/dist-packages/sklearn/linear_model/logistic.py:433: FutureWarning: Default solver will be changed to 'lbfgs' in 0.22. Specify a solver to silence this warning.\n",
            "  FutureWarning)\n",
            "/usr/local/lib/python3.6/dist-packages/sklearn/linear_model/logistic.py:433: FutureWarning: Default solver will be changed to 'lbfgs' in 0.22. Specify a solver to silence this warning.\n",
            "  FutureWarning)\n",
            "/usr/local/lib/python3.6/dist-packages/sklearn/linear_model/logistic.py:433: FutureWarning: Default solver will be changed to 'lbfgs' in 0.22. Specify a solver to silence this warning.\n",
            "  FutureWarning)\n",
            "/usr/local/lib/python3.6/dist-packages/sklearn/linear_model/logistic.py:433: FutureWarning: Default solver will be changed to 'lbfgs' in 0.22. Specify a solver to silence this warning.\n",
            "  FutureWarning)\n",
            "/usr/local/lib/python3.6/dist-packages/sklearn/linear_model/logistic.py:433: FutureWarning: Default solver will be changed to 'lbfgs' in 0.22. Specify a solver to silence this warning.\n",
            "  FutureWarning)\n",
            "/usr/local/lib/python3.6/dist-packages/sklearn/linear_model/logistic.py:433: FutureWarning: Default solver will be changed to 'lbfgs' in 0.22. Specify a solver to silence this warning.\n",
            "  FutureWarning)\n",
            "/usr/local/lib/python3.6/dist-packages/sklearn/linear_model/logistic.py:433: FutureWarning: Default solver will be changed to 'lbfgs' in 0.22. Specify a solver to silence this warning.\n",
            "  FutureWarning)\n"
          ],
          "name": "stderr"
        },
        {
          "output_type": "execute_result",
          "data": {
            "text/plain": [
              "ClassifierChain(classifier=LogisticRegression(C=1.0, class_weight=None, dual=False, fit_intercept=True,\n",
              "          intercept_scaling=1, max_iter=100, multi_class='warn',\n",
              "          n_jobs=None, penalty='l2', random_state=None, solver='warn',\n",
              "          tol=0.0001, verbose=0, warm_start=False),\n",
              "        order=None, require_dense=[True, True])"
            ]
          },
          "metadata": {
            "tags": []
          },
          "execution_count": 24
        }
      ]
    },
    {
      "metadata": {
        "id": "wI42z2AIXXKu",
        "colab_type": "code",
        "colab": {}
      },
      "cell_type": "code",
      "source": [
        "test_features=np.zeros(shape=(16,6,8,512))"
      ],
      "execution_count": 0,
      "outputs": []
    },
    {
      "metadata": {
        "id": "SDKmaZJWXqHX",
        "colab_type": "code",
        "colab": {
          "base_uri": "https://localhost:8080/",
          "height": 35
        },
        "outputId": "8d10c559-82c6-4769-ce61-abedea32db5e"
      },
      "cell_type": "code",
      "source": [
        "test_features=vgg_conv.predict(X_test)\n",
        "print(test_features.shape)"
      ],
      "execution_count": 26,
      "outputs": [
        {
          "output_type": "stream",
          "text": [
            "(16, 6, 8, 512)\n"
          ],
          "name": "stdout"
        }
      ]
    },
    {
      "metadata": {
        "id": "g3_JogAjiJFG",
        "colab_type": "code",
        "colab": {}
      },
      "cell_type": "code",
      "source": [
        "test_features = np.reshape(test_features, (16, 6 * 8 * 512))"
      ],
      "execution_count": 0,
      "outputs": []
    },
    {
      "metadata": {
        "id": "EiEMhzUROryn",
        "colab_type": "code",
        "colab": {
          "base_uri": "https://localhost:8080/",
          "height": 305
        },
        "outputId": "b80a44fc-b604-47ff-8787-01fce5838f50"
      },
      "cell_type": "code",
      "source": [
        "print(y_test)"
      ],
      "execution_count": 28,
      "outputs": [
        {
          "output_type": "stream",
          "text": [
            "[[0 0 1 0 0 0 0 0]\n",
            " [1 0 0 0 0 0 0 0]\n",
            " [0 0 1 0 0 0 0 0]\n",
            " [0 0 0 1 0 0 0 0]\n",
            " [0 1 0 0 0 0 0 0]\n",
            " [0 0 1 0 0 0 0 0]\n",
            " [1 0 0 0 0 0 0 0]\n",
            " [0 0 0 0 0 0 1 0]\n",
            " [1 0 0 0 0 0 0 0]\n",
            " [0 1 0 0 0 0 0 0]\n",
            " [0 0 0 0 1 0 0 0]\n",
            " [0 0 0 1 0 0 0 0]\n",
            " [0 0 0 0 0 0 1 0]\n",
            " [0 0 0 1 0 0 0 0]\n",
            " [0 0 0 0 0 0 1 0]\n",
            " [0 0 0 0 1 0 0 0]]\n"
          ],
          "name": "stdout"
        }
      ]
    },
    {
      "metadata": {
        "id": "A-RNFXeDOXhZ",
        "colab_type": "code",
        "colab": {
          "base_uri": "https://localhost:8080/",
          "height": 143
        },
        "outputId": "1116e0bc-84b8-4bf0-9436-216956d46e50"
      },
      "cell_type": "code",
      "source": [
        "pred2=classifier.predict(test_features)\n",
        "print(pred2)"
      ],
      "execution_count": 29,
      "outputs": [
        {
          "output_type": "stream",
          "text": [
            "  (6, 0)\t1.0\n",
            "  (8, 0)\t1.0\n",
            "  (4, 1)\t1.0\n",
            "  (9, 1)\t1.0\n",
            "  (10, 4)\t1.0\n",
            "  (15, 4)\t1.0\n",
            "  (12, 6)\t1.0\n"
          ],
          "name": "stdout"
        }
      ]
    },
    {
      "metadata": {
        "id": "lAlDENmlO8ne",
        "colab_type": "code",
        "colab": {
          "base_uri": "https://localhost:8080/",
          "height": 71
        },
        "outputId": "b5777ea7-7754-4915-9d39-f7cc84defc05"
      },
      "cell_type": "code",
      "source": [
        "print(\"Accuracy = \",accuracy_score(y_test,pred2))\n",
        "print(\"\\n\")"
      ],
      "execution_count": 30,
      "outputs": [
        {
          "output_type": "stream",
          "text": [
            "Accuracy =  0.4375\n",
            "\n",
            "\n"
          ],
          "name": "stdout"
        }
      ]
    },
    {
      "metadata": {
        "id": "zydT9gTNhX34",
        "colab_type": "code",
        "colab": {}
      },
      "cell_type": "code",
      "source": [
        ""
      ],
      "execution_count": 0,
      "outputs": []
    },
    {
      "metadata": {
        "id": "JuEA-W1rjvUj",
        "colab_type": "code",
        "colab": {}
      },
      "cell_type": "code",
      "source": [
        ""
      ],
      "execution_count": 0,
      "outputs": []
    }
  ]
}