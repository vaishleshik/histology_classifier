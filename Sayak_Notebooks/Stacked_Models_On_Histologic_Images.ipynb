{
 "cells": [
  {
   "cell_type": "markdown",
   "metadata": {},
   "source": [
    "# Model stacking experiments on Histologic images\n",
    "\n",
    "This notebook incorporates two techniques to enhance the performance of the deep networks (ResNet and VGG16 used here) - \n",
    "* Model stacking (Multi-class logistic regression is used in this case)\n",
    "* Transfer learning aided with fine-tuning of layers"
   ]
  },
  {
   "cell_type": "code",
   "execution_count": 74,
   "metadata": {},
   "outputs": [],
   "source": [
    "import pandas as pd\n",
    "import numpy as np\n",
    "import random\n",
    "from scipy.misc import imresize\n",
    "from scipy.misc import imshow\n",
    "from scipy.misc import imread\n",
    "import os\n",
    "import matplotlib.pyplot as plt\n",
    "from sklearn.metrics import accuracy_score, classification_report, confusion_matrix\n",
    "%matplotlib inline\n",
    "\n",
    "# For fixing the randomness and thereby enabling my team members to reproduce the experiments\n",
    "np.random.seed(7)\n",
    "\n",
    "import warnings\n",
    "warnings.filterwarnings(\"ignore\")"
   ]
  },
  {
   "cell_type": "markdown",
   "metadata": {},
   "source": [
    "## Load pretrained models: ResNet, VGG16"
   ]
  },
  {
   "cell_type": "code",
   "execution_count": 2,
   "metadata": {},
   "outputs": [
    {
     "name": "stderr",
     "output_type": "stream",
     "text": [
      "Using TensorFlow backend.\n"
     ]
    }
   ],
   "source": [
    "from keras.applications.resnet50 import ResNet50\n",
    "from keras.applications.vgg16 import VGG16"
   ]
  },
  {
   "cell_type": "markdown",
   "metadata": {},
   "source": [
    "\n",
    "## Prepare the data and splitting"
   ]
  },
  {
   "cell_type": "code",
   "execution_count": 5,
   "metadata": {},
   "outputs": [],
   "source": [
    "filename_csv = pd.read_csv('data_chec_resized/dat.csv', sep=',')\n",
    "temp = []\n",
    "for img_name in filename_csv.filename:\n",
    "    img_path = os.path.join('data_chec_resized', 'pool', img_name)\n",
    "    img = imread(img_path)\n",
    "    img = imresize(img, (256,192))\n",
    "    #img = img.astype('float32') \n",
    "    temp.append(img)\n",
    "\n",
    "X = np.stack(temp)"
   ]
  },
  {
   "cell_type": "code",
   "execution_count": 6,
   "metadata": {},
   "outputs": [],
   "source": [
    "import keras\n",
    "from sklearn.preprocessing import LabelEncoder\n",
    "\n",
    "lb = LabelEncoder()\n",
    "\n",
    "y = lb.fit_transform(filename_csv['label'])\n",
    "y = keras.utils.np_utils.to_categorical(y)"
   ]
  },
  {
   "cell_type": "code",
   "execution_count": 7,
   "metadata": {},
   "outputs": [],
   "source": [
    "from sklearn.model_selection import train_test_split\n",
    "\n",
    "X_train,X_test,y_train,y_test = train_test_split(X,y,test_size=0.2,random_state=42)"
   ]
  },
  {
   "cell_type": "markdown",
   "metadata": {},
   "source": [
    "## ResNet50\n",
    "\n",
    "For ResNet50, we will take predictions from this pretrained model and feed that as input to a simple Logistic Regression model. Thanks to Anirudh for incorporating this. "
   ]
  },
  {
   "cell_type": "code",
   "execution_count": 8,
   "metadata": {},
   "outputs": [
    {
     "name": "stdout",
     "output_type": "stream",
     "text": [
      "WARNING:tensorflow:From /miniconda3/lib/python3.7/site-packages/tensorflow/python/framework/op_def_library.py:263: colocate_with (from tensorflow.python.framework.ops) is deprecated and will be removed in a future version.\n",
      "Instructions for updating:\n",
      "Colocations handled automatically by placer.\n",
      "Downloading data from https://github.com/fchollet/deep-learning-models/releases/download/v0.2/resnet50_weights_tf_dim_ordering_tf_kernels_notop.h5\n",
      "94658560/94653016 [==============================] - 48s 1us/step\n"
     ]
    }
   ],
   "source": [
    "resnet = ResNet50(weights='imagenet',include_top=False,input_shape=(256, 192, 3))"
   ]
  },
  {
   "cell_type": "code",
   "execution_count": 17,
   "metadata": {},
   "outputs": [
    {
     "name": "stdout",
     "output_type": "stream",
     "text": [
      "(64, 8, 6, 2048)\n"
     ]
    }
   ],
   "source": [
    "# Use the model to predict and store the results\n",
    "train_feats=resnet.predict(X_train)\n",
    "print(train_feats.shape)"
   ]
  },
  {
   "cell_type": "code",
   "execution_count": 18,
   "metadata": {},
   "outputs": [
    {
     "data": {
      "text/plain": [
       "(64, 98304)"
      ]
     },
     "execution_count": 18,
     "metadata": {},
     "output_type": "execute_result"
    }
   ],
   "source": [
    "# Flatten the output vector\n",
    "train_features = np.reshape(train_feats, (X_train.shape[0], 8 * 6 * 2048))\n",
    "train_features.shape"
   ]
  },
  {
   "cell_type": "markdown",
   "metadata": {},
   "source": [
    "## Using the ResNet model outputs to further train a multi-class Logisitic Regression model"
   ]
  },
  {
   "cell_type": "code",
   "execution_count": 19,
   "metadata": {},
   "outputs": [
    {
     "data": {
      "text/plain": [
       "ClassifierChain(classifier=LogisticRegression(C=1.0, class_weight=None, dual=False, fit_intercept=True,\n",
       "          intercept_scaling=1, max_iter=100, multi_class='warn',\n",
       "          n_jobs=None, penalty='l2', random_state=None, solver='warn',\n",
       "          tol=0.0001, verbose=0, warm_start=False),\n",
       "        order=None, require_dense=[True, True])"
      ]
     },
     "execution_count": 19,
     "metadata": {},
     "output_type": "execute_result"
    }
   ],
   "source": [
    "from sklearn.linear_model import LogisticRegression\n",
    "from skmultilearn.problem_transform import ClassifierChain\n",
    "\n",
    "logreg = LogisticRegression()\n",
    "multi_label_logreg = ClassifierChain(logreg)\n",
    "multi_label_logreg.fit(train_features, y_train)"
   ]
  },
  {
   "cell_type": "code",
   "execution_count": 21,
   "metadata": {},
   "outputs": [
    {
     "name": "stdout",
     "output_type": "stream",
     "text": [
      "(16, 8, 6, 2048)\n"
     ]
    }
   ],
   "source": [
    "test_feats = resnet.predict(X_test)\n",
    "print(test_feats.shape)"
   ]
  },
  {
   "cell_type": "markdown",
   "metadata": {},
   "source": [
    "## Evaluate the final model and log accuracy score, classification_report"
   ]
  },
  {
   "cell_type": "code",
   "execution_count": 23,
   "metadata": {},
   "outputs": [
    {
     "name": "stdout",
     "output_type": "stream",
     "text": [
      "62.5\n"
     ]
    }
   ],
   "source": [
    "test_feats = np.reshape(test_feats, (X_test.shape[0], 8 * 6 * 2048))\n",
    "predictions = multi_label_logreg.predict(test_feats)\n",
    "\n",
    "print(accuracy_score(y_test,predictions) * 100.)"
   ]
  },
  {
   "cell_type": "code",
   "execution_count": 47,
   "metadata": {},
   "outputs": [
    {
     "name": "stdout",
     "output_type": "stream",
     "text": [
      "              precision    recall  f1-score   support\n",
      "\n",
      "          SI       0.67      0.50      0.57         4\n",
      "        Skin       0.00      0.00      0.00         0\n",
      "      Kidney       1.00      0.50      0.67         2\n",
      "     Bladder       0.00      0.00      0.00         0\n",
      "        Lung       1.00      1.00      1.00         3\n",
      "       Brain       1.00      0.50      0.67         2\n",
      "       Liver       1.00      0.67      0.80         3\n",
      "          LI       1.00      0.50      0.67         2\n",
      "\n",
      "   micro avg       0.91      0.62      0.74        16\n",
      "   macro avg       0.71      0.46      0.55        16\n",
      "weighted avg       0.92      0.62      0.73        16\n",
      " samples avg       0.62      0.62      0.62        16\n",
      "\n"
     ]
    }
   ],
   "source": [
    "print(classification_report(y_test, predictions, target_names = filename_csv.label.unique()))"
   ]
  },
  {
   "cell_type": "markdown",
   "metadata": {},
   "source": [
    "## VGG16 + A bit of modifications\n",
    "\n",
    "For VGG16, will only add another Pooling layer, a BatchNorm layer followed by three fully connected layers. This is also known as **fine-tuning**. "
   ]
  },
  {
   "cell_type": "code",
   "execution_count": 25,
   "metadata": {},
   "outputs": [],
   "source": [
    "base_model = VGG16(weights='imagenet', \n",
    "                       include_top=False, \n",
    "                       input_shape=(256, 192, 3))"
   ]
  },
  {
   "cell_type": "code",
   "execution_count": 26,
   "metadata": {},
   "outputs": [],
   "source": [
    "# Extract the last layer from third block of vgg16 model\n",
    "last = base_model.get_layer('block3_pool').output"
   ]
  },
  {
   "cell_type": "code",
   "execution_count": 27,
   "metadata": {},
   "outputs": [
    {
     "name": "stdout",
     "output_type": "stream",
     "text": [
      "WARNING:tensorflow:From /miniconda3/lib/python3.7/site-packages/keras/backend/tensorflow_backend.py:3445: calling dropout (from tensorflow.python.ops.nn_ops) with keep_prob is deprecated and will be removed in a future version.\n",
      "Instructions for updating:\n",
      "Please use `rate` instead of `keep_prob`. Rate should be set to `rate = 1 - keep_prob`.\n"
     ]
    }
   ],
   "source": [
    "# Add classification layers on top of it\n",
    "x = GlobalAveragePooling2D()(last)\n",
    "x= BatchNormalization()(x)\n",
    "x = Dense(256, activation='relu')(x)\n",
    "x = Dense(256, activation='relu')(x)\n",
    "x = Dropout(0.6)(x)\n",
    "pred = Dense(8, activation='softmax')(x)\n",
    "model = Model(base_model.input, pred)"
   ]
  },
  {
   "cell_type": "code",
   "execution_count": 28,
   "metadata": {},
   "outputs": [],
   "source": [
    "from keras import optimizers\n",
    "\n",
    "for layer in base_model.layers:\n",
    "     layer.trainable = False\n",
    "\n",
    "model.compile(loss='categorical_crossentropy',\n",
    "              optimizer=optimizers.Adam(lr=1e-4),\n",
    "              metrics=['accuracy'])"
   ]
  },
  {
   "cell_type": "markdown",
   "metadata": {},
   "source": [
    "## Data Augmentation"
   ]
  },
  {
   "cell_type": "code",
   "execution_count": 29,
   "metadata": {},
   "outputs": [],
   "source": [
    "from keras.preprocessing.image import ImageDataGenerator\n",
    "\n",
    "trainAug = ImageDataGenerator(\n",
    "    rotation_range=20,\n",
    "    zoom_range=0.05,\n",
    "    width_shift_range=0.05,\n",
    "    height_shift_range=0.05,\n",
    "    shear_range=0.05,\n",
    "    horizontal_flip=True,\n",
    "    fill_mode=\"nearest\")\n",
    " \n",
    "\n",
    "valAug = ImageDataGenerator()"
   ]
  },
  {
   "cell_type": "code",
   "execution_count": 30,
   "metadata": {},
   "outputs": [],
   "source": [
    "trainAug.fit(X_train)\n",
    "train_generator = trainAug.flow(X_train, y_train, batch_size=32)\n",
    "                                     \n",
    "valAug.fit(X_test)\n",
    "valid_generator = valAug.flow(X_test, y_test, batch_size=32)"
   ]
  },
  {
   "cell_type": "code",
   "execution_count": 33,
   "metadata": {
    "collapsed": true
   },
   "outputs": [
    {
     "name": "stdout",
     "output_type": "stream",
     "text": [
      "WARNING:tensorflow:From /miniconda3/lib/python3.7/site-packages/tensorflow/python/ops/math_ops.py:3066: to_int32 (from tensorflow.python.ops.math_ops) is deprecated and will be removed in a future version.\n",
      "Instructions for updating:\n",
      "Use tf.cast instead.\n",
      "Epoch 1/64\n",
      "2/2 [==============================] - 41s 21s/step - loss: 2.2871 - acc: 0.1250 - val_loss: 2.5109 - val_acc: 0.0625\n",
      "Epoch 2/64\n",
      "2/2 [==============================] - 32s 16s/step - loss: 2.2906 - acc: 0.1562 - val_loss: 2.4362 - val_acc: 0.0625\n",
      "Epoch 3/64\n",
      "2/2 [==============================] - 32s 16s/step - loss: 2.1832 - acc: 0.1875 - val_loss: 2.3771 - val_acc: 0.1250\n",
      "Epoch 4/64\n",
      "2/2 [==============================] - 38s 19s/step - loss: 2.1861 - acc: 0.2344 - val_loss: 2.3164 - val_acc: 0.1250\n",
      "Epoch 5/64\n",
      "2/2 [==============================] - 34s 17s/step - loss: 2.1053 - acc: 0.2031 - val_loss: 2.2729 - val_acc: 0.0625\n",
      "Epoch 6/64\n",
      "2/2 [==============================] - 33s 17s/step - loss: 2.2042 - acc: 0.2188 - val_loss: 2.2235 - val_acc: 0.0625\n",
      "Epoch 7/64\n",
      "2/2 [==============================] - 36s 18s/step - loss: 1.9964 - acc: 0.2812 - val_loss: 2.1699 - val_acc: 0.0625\n",
      "Epoch 8/64\n",
      "2/2 [==============================] - 33s 17s/step - loss: 2.0920 - acc: 0.2188 - val_loss: 2.1198 - val_acc: 0.0625\n",
      "Epoch 9/64\n",
      "2/2 [==============================] - 35s 18s/step - loss: 1.8785 - acc: 0.2656 - val_loss: 2.0732 - val_acc: 0.1250\n",
      "Epoch 10/64\n",
      "2/2 [==============================] - 36s 18s/step - loss: 1.8243 - acc: 0.2500 - val_loss: 2.0244 - val_acc: 0.1250\n",
      "Epoch 11/64\n",
      "2/2 [==============================] - 34s 17s/step - loss: 1.8116 - acc: 0.3125 - val_loss: 1.9754 - val_acc: 0.1250\n",
      "Epoch 12/64\n",
      "2/2 [==============================] - 32s 16s/step - loss: 1.5834 - acc: 0.4688 - val_loss: 1.9273 - val_acc: 0.1250\n",
      "Epoch 13/64\n",
      "2/2 [==============================] - 33s 16s/step - loss: 1.5355 - acc: 0.3906 - val_loss: 1.8841 - val_acc: 0.1875\n",
      "Epoch 14/64\n",
      "2/2 [==============================] - 41s 21s/step - loss: 1.6585 - acc: 0.3594 - val_loss: 1.8399 - val_acc: 0.2500\n",
      "Epoch 15/64\n",
      "2/2 [==============================] - 37s 18s/step - loss: 1.6967 - acc: 0.3125 - val_loss: 1.7996 - val_acc: 0.2500\n",
      "Epoch 16/64\n",
      "2/2 [==============================] - 34s 17s/step - loss: 1.7410 - acc: 0.2500 - val_loss: 1.7574 - val_acc: 0.3125\n",
      "Epoch 17/64\n",
      "2/2 [==============================] - 36s 18s/step - loss: 1.5095 - acc: 0.4531 - val_loss: 1.7165 - val_acc: 0.3125\n",
      "Epoch 18/64\n",
      "2/2 [==============================] - 35s 18s/step - loss: 1.3713 - acc: 0.5156 - val_loss: 1.6729 - val_acc: 0.3125\n",
      "Epoch 19/64\n",
      "2/2 [==============================] - 32s 16s/step - loss: 1.3372 - acc: 0.4844 - val_loss: 1.6328 - val_acc: 0.3125\n",
      "Epoch 20/64\n",
      "2/2 [==============================] - 31s 16s/step - loss: 1.3596 - acc: 0.5156 - val_loss: 1.5912 - val_acc: 0.3125\n",
      "Epoch 21/64\n",
      "2/2 [==============================] - 35s 17s/step - loss: 1.3492 - acc: 0.5781 - val_loss: 1.5512 - val_acc: 0.3750\n",
      "Epoch 22/64\n",
      "2/2 [==============================] - 33s 16s/step - loss: 1.4267 - acc: 0.4375 - val_loss: 1.5106 - val_acc: 0.4375\n",
      "Epoch 23/64\n",
      "2/2 [==============================] - 32s 16s/step - loss: 1.2523 - acc: 0.5156 - val_loss: 1.4740 - val_acc: 0.4375\n",
      "Epoch 24/64\n",
      "2/2 [==============================] - 30s 15s/step - loss: 1.1317 - acc: 0.6094 - val_loss: 1.4372 - val_acc: 0.4375\n",
      "Epoch 25/64\n",
      "2/2 [==============================] - 31s 16s/step - loss: 1.1572 - acc: 0.5938 - val_loss: 1.4016 - val_acc: 0.4375\n",
      "Epoch 26/64\n",
      "2/2 [==============================] - 30s 15s/step - loss: 1.0933 - acc: 0.5625 - val_loss: 1.3673 - val_acc: 0.5000\n",
      "Epoch 27/64\n",
      "2/2 [==============================] - 30s 15s/step - loss: 1.0506 - acc: 0.6875 - val_loss: 1.3349 - val_acc: 0.5000\n",
      "Epoch 28/64\n",
      "2/2 [==============================] - 30s 15s/step - loss: 1.2390 - acc: 0.6094 - val_loss: 1.3039 - val_acc: 0.5000\n",
      "Epoch 29/64\n",
      "2/2 [==============================] - 30s 15s/step - loss: 1.1054 - acc: 0.6719 - val_loss: 1.2753 - val_acc: 0.5000\n",
      "Epoch 30/64\n",
      "2/2 [==============================] - 30s 15s/step - loss: 1.1643 - acc: 0.6094 - val_loss: 1.2463 - val_acc: 0.5000\n",
      "Epoch 31/64\n",
      "2/2 [==============================] - 30s 15s/step - loss: 1.0245 - acc: 0.7188 - val_loss: 1.2183 - val_acc: 0.5000\n",
      "Epoch 32/64\n",
      "2/2 [==============================] - 30s 15s/step - loss: 1.1071 - acc: 0.6250 - val_loss: 1.1950 - val_acc: 0.5000\n",
      "Epoch 33/64\n",
      "2/2 [==============================] - 30s 15s/step - loss: 0.9240 - acc: 0.7656 - val_loss: 1.1705 - val_acc: 0.5000\n",
      "Epoch 34/64\n",
      "2/2 [==============================] - 30s 15s/step - loss: 0.9380 - acc: 0.7188 - val_loss: 1.1504 - val_acc: 0.5000\n",
      "Epoch 35/64\n",
      "2/2 [==============================] - 30s 15s/step - loss: 0.9268 - acc: 0.7031 - val_loss: 1.1295 - val_acc: 0.5000\n",
      "Epoch 36/64\n",
      "2/2 [==============================] - 30s 15s/step - loss: 1.0036 - acc: 0.7031 - val_loss: 1.1113 - val_acc: 0.5000\n",
      "Epoch 37/64\n",
      "2/2 [==============================] - 31s 16s/step - loss: 0.8332 - acc: 0.7656 - val_loss: 1.0940 - val_acc: 0.5000\n",
      "Epoch 38/64\n",
      "2/2 [==============================] - 31s 15s/step - loss: 0.9360 - acc: 0.6250 - val_loss: 1.0759 - val_acc: 0.5625\n",
      "Epoch 39/64\n",
      "2/2 [==============================] - 30s 15s/step - loss: 0.9015 - acc: 0.6719 - val_loss: 1.0553 - val_acc: 0.6250\n",
      "Epoch 40/64\n",
      "2/2 [==============================] - 31s 15s/step - loss: 0.8231 - acc: 0.7812 - val_loss: 1.0342 - val_acc: 0.6250\n",
      "Epoch 41/64\n",
      "2/2 [==============================] - 31s 15s/step - loss: 0.7744 - acc: 0.8281 - val_loss: 1.0141 - val_acc: 0.6250\n",
      "Epoch 42/64\n",
      "2/2 [==============================] - 32s 16s/step - loss: 0.8596 - acc: 0.7500 - val_loss: 0.9978 - val_acc: 0.6250\n",
      "Epoch 43/64\n",
      "2/2 [==============================] - 31s 16s/step - loss: 0.8299 - acc: 0.7344 - val_loss: 0.9819 - val_acc: 0.6250\n",
      "Epoch 44/64\n",
      "2/2 [==============================] - 31s 16s/step - loss: 0.9215 - acc: 0.7656 - val_loss: 0.9684 - val_acc: 0.6250\n",
      "Epoch 45/64\n",
      "2/2 [==============================] - 31s 15s/step - loss: 0.7634 - acc: 0.7500 - val_loss: 0.9563 - val_acc: 0.6250\n",
      "Epoch 46/64\n",
      "2/2 [==============================] - 32s 16s/step - loss: 0.7669 - acc: 0.7656 - val_loss: 0.9436 - val_acc: 0.6875\n",
      "Epoch 47/64\n",
      "2/2 [==============================] - 34s 17s/step - loss: 0.7006 - acc: 0.8125 - val_loss: 0.9328 - val_acc: 0.7500\n",
      "Epoch 48/64\n",
      "2/2 [==============================] - 32s 16s/step - loss: 0.7835 - acc: 0.7500 - val_loss: 0.9209 - val_acc: 0.7500\n",
      "Epoch 49/64\n",
      "2/2 [==============================] - 32s 16s/step - loss: 0.5741 - acc: 0.8594 - val_loss: 0.9098 - val_acc: 0.7500\n",
      "Epoch 50/64\n",
      "2/2 [==============================] - 32s 16s/step - loss: 0.6489 - acc: 0.8125 - val_loss: 0.8978 - val_acc: 0.7500\n",
      "Epoch 51/64\n",
      "2/2 [==============================] - 33s 17s/step - loss: 0.6760 - acc: 0.8125 - val_loss: 0.8859 - val_acc: 0.7500\n",
      "Epoch 52/64\n",
      "2/2 [==============================] - 32s 16s/step - loss: 0.6086 - acc: 0.8594 - val_loss: 0.8748 - val_acc: 0.7500\n",
      "Epoch 53/64\n",
      "2/2 [==============================] - 38s 19s/step - loss: 0.5754 - acc: 0.8594 - val_loss: 0.8660 - val_acc: 0.7500\n",
      "Epoch 54/64\n",
      "2/2 [==============================] - 32s 16s/step - loss: 0.5934 - acc: 0.8438 - val_loss: 0.8555 - val_acc: 0.8125\n",
      "Epoch 55/64\n",
      "2/2 [==============================] - 32s 16s/step - loss: 0.7059 - acc: 0.8125 - val_loss: 0.8450 - val_acc: 0.8125\n",
      "Epoch 56/64\n",
      "2/2 [==============================] - 33s 16s/step - loss: 0.7217 - acc: 0.7500 - val_loss: 0.8347 - val_acc: 0.8125\n",
      "Epoch 57/64\n",
      "2/2 [==============================] - 33s 16s/step - loss: 0.5763 - acc: 0.8438 - val_loss: 0.8268 - val_acc: 0.8125\n",
      "Epoch 58/64\n",
      "2/2 [==============================] - 33s 17s/step - loss: 0.6409 - acc: 0.7812 - val_loss: 0.8178 - val_acc: 0.8125\n",
      "Epoch 59/64\n",
      "2/2 [==============================] - 31s 15s/step - loss: 0.6418 - acc: 0.8438 - val_loss: 0.8113 - val_acc: 0.8125\n",
      "Epoch 60/64\n",
      "2/2 [==============================] - 31s 15s/step - loss: 0.5306 - acc: 0.9062 - val_loss: 0.8051 - val_acc: 0.8125\n",
      "Epoch 61/64\n",
      "2/2 [==============================] - 31s 15s/step - loss: 0.6304 - acc: 0.7812 - val_loss: 0.7979 - val_acc: 0.8125\n",
      "Epoch 62/64\n",
      "2/2 [==============================] - 34s 17s/step - loss: 0.5722 - acc: 0.8125 - val_loss: 0.7908 - val_acc: 0.8125\n",
      "Epoch 63/64\n",
      "2/2 [==============================] - 34s 17s/step - loss: 0.6218 - acc: 0.7969 - val_loss: 0.7812 - val_acc: 0.8125\n",
      "Epoch 64/64\n",
      "2/2 [==============================] - 38s 19s/step - loss: 0.5785 - acc: 0.7969 - val_loss: 0.7736 - val_acc: 0.8125\n"
     ]
    }
   ],
   "source": [
    "history = model.fit_generator(train_generator,\n",
    "                              steps_per_epoch=2,\n",
    "                              validation_data=valid_generator,\n",
    "                              validation_steps=2,\n",
    "                              epochs=64,\n",
    "                              verbose=1)"
   ]
  },
  {
   "cell_type": "markdown",
   "metadata": {},
   "source": [
    "## Model analysis"
   ]
  },
  {
   "cell_type": "code",
   "execution_count": 42,
   "metadata": {},
   "outputs": [
    {
     "data": {
      "image/png": "[encoded data removed]",
      "text/plain": [
       "<Figure size 720x360 with 1 Axes>"
      ]
     },
     "metadata": {},
     "output_type": "display_data"
    }
   ],
   "source": [
    "N = 64\n",
    "plt.style.use(\"ggplot\")\n",
    "plt.figure(figsize=(10,5))\n",
    "\n",
    "plt.plot(np.arange(0, N), history.history[\"acc\"], label=\"train_acc\")\n",
    "plt.plot(np.arange(0, N), history.history[\"val_acc\"], label=\"val_acc\")\n",
    "\n",
    "plt.title(\"Training and Validation Accuracy on Dataset\")\n",
    "plt.xlabel(\"Epoch #\")\n",
    "plt.ylabel(\"Accuracy\")\n",
    "plt.legend(loc=\"uppoer right\")\n",
    "plt.show()"
   ]
  },
  {
   "cell_type": "code",
   "execution_count": 45,
   "metadata": {},
   "outputs": [
    {
     "data": {
      "image/png": "[encoded data removed]",
      "text/plain": [
       "<Figure size 720x360 with 1 Axes>"
      ]
     },
     "metadata": {},
     "output_type": "display_data"
    }
   ],
   "source": [
    "plt.figure(figsize=(10,5))\n",
    "\n",
    "plt.plot(np.arange(0, N), history.history[\"loss\"], label=\"train_loss\")\n",
    "plt.plot(np.arange(0, N), history.history[\"val_loss\"], label=\"val_loss\")\n",
    "\n",
    "plt.title('Training and Validation Loss on Dataset')\n",
    "plt.xlabel(\"Epoch #\")\n",
    "plt.ylabel(\"Accuracy\")\n",
    "plt.legend(['train', 'test'], loc='upper left')\n",
    "plt.show()"
   ]
  },
  {
   "cell_type": "markdown",
   "metadata": {},
   "source": [
    "## Model evaluation"
   ]
  },
  {
   "cell_type": "code",
   "execution_count": 52,
   "metadata": {
    "scrolled": true
   },
   "outputs": [
    {
     "data": {
      "text/plain": [
       "(16, 8)"
      ]
     },
     "execution_count": 52,
     "metadata": {},
     "output_type": "execute_result"
    }
   ],
   "source": [
    "preds_vgg = model.predict(X_test)\n",
    "preds_vgg.shape"
   ]
  },
  {
   "cell_type": "code",
   "execution_count": 62,
   "metadata": {},
   "outputs": [
    {
     "name": "stdout",
     "output_type": "stream",
     "text": [
      "81.25\n"
     ]
    }
   ],
   "source": [
    "print(accuracy_score(np.argmax(y_test, axis=1), np.argmax(preds_vgg, axis=1))*100.)"
   ]
  },
  {
   "cell_type": "markdown",
   "metadata": {},
   "source": [
    "## Save the weights of the fine-tuned VGG16 model"
   ]
  },
  {
   "cell_type": "code",
   "execution_count": 88,
   "metadata": {},
   "outputs": [],
   "source": [
    "model.save_weights('model_weights/vgg_fine_tuned.h5')"
   ]
  }
 ],
 "metadata": {
  "kernelspec": {
   "display_name": "Python 3",
   "language": "python",
   "name": "python3"
  },
  "language_info": {
   "codemirror_mode": {
    "name": "ipython",
    "version": 3
   },
   "file_extension": ".py",
   "mimetype": "text/x-python",
   "name": "python",
   "nbconvert_exporter": "python",
   "pygments_lexer": "ipython3",
   "version": "3.7.1"
  }
 },
 "nbformat": 4,
 "nbformat_minor": 2
}
