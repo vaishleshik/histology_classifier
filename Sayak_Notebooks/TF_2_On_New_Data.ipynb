{
  "nbformat": 4,
  "nbformat_minor": 0,
  "metadata": {
    "colab": {
      "name": "TF_2_On_New_Data.ipynb",
      "version": "0.3.2",
      "provenance": []
    },
    "language_info": {
      "codemirror_mode": {
        "name": "ipython",
        "version": 3
      },
      "file_extension": ".py",
      "mimetype": "text/x-python",
      "name": "python",
      "nbconvert_exporter": "python",
      "pygments_lexer": "ipython3",
      "version": "3.6.5"
    },
    "kernelspec": {
      "name": "python3",
      "display_name": "Python 3"
    },
    "accelerator": "GPU"
  },
  "cells": [
    {
      "cell_type": "code",
      "metadata": {
        "id": "YRJ9WROn5DGz",
        "colab_type": "code",
        "outputId": "063c9d1a-88c1-421d-cdf1-7385988c5acc",
        "colab": {
          "base_uri": "https://localhost:8080/",
          "height": 36
        }
      },
      "source": [
        "%%bash \n",
        "git clone https://github.com/vaishleshik/histo_rep"
      ],
      "execution_count": 0,
      "outputs": [
        {
          "output_type": "stream",
          "text": [
            "Cloning into 'histo_rep'...\n"
          ],
          "name": "stderr"
        }
      ]
    },
    {
      "cell_type": "code",
      "metadata": {
        "id": "-hPZ-fgJ5N9V",
        "colab_type": "code",
        "colab": {}
      },
      "source": [
        "!pip install tensorflow-gpu==2.0.0-beta1"
      ],
      "execution_count": 0,
      "outputs": []
    },
    {
      "cell_type": "code",
      "metadata": {
        "id": "zSlsizZp45RA",
        "colab_type": "code",
        "outputId": "f42ee819-bb12-425a-b545-a13b80b2665a",
        "colab": {
          "base_uri": "https://localhost:8080/",
          "height": 36
        }
      },
      "source": [
        "import tensorflow as tf \n",
        "\n",
        "print(tf.__version__)"
      ],
      "execution_count": 1,
      "outputs": [
        {
          "output_type": "stream",
          "text": [
            "2.0.0-beta1\n"
          ],
          "name": "stdout"
        }
      ]
    },
    {
      "cell_type": "code",
      "metadata": {
        "id": "FEJh42QR45RN",
        "colab_type": "code",
        "colab": {}
      },
      "source": [
        "import pandas as pd\n",
        "import numpy as np\n",
        "import random\n",
        "import os\n",
        "import matplotlib.pyplot as plt\n",
        "from sklearn.metrics import accuracy_score, classification_report, confusion_matrix\n",
        "%matplotlib inline\n",
        "\n",
        "# For fixing the randomness and thereby enabling my team members to reproduce the experiments\n",
        "np.random.seed(7)\n",
        "\n",
        "import warnings\n",
        "warnings.filterwarnings(\"ignore\")"
      ],
      "execution_count": 0,
      "outputs": []
    },
    {
      "cell_type": "code",
      "metadata": {
        "id": "jKrrKqh845RT",
        "colab_type": "code",
        "colab": {}
      },
      "source": [
        "from tensorflow.keras.applications.resnet50 import ResNet50\n",
        "from tensorflow.keras.models import Model"
      ],
      "execution_count": 0,
      "outputs": []
    },
    {
      "cell_type": "code",
      "metadata": {
        "id": "1MrL6nCm45RY",
        "colab_type": "code",
        "colab": {}
      },
      "source": [
        "input_tensor = tf.keras.layers.Input(shape=(256, 192, 3))\n",
        "\n",
        "base_model = ResNet50(input_tensor=input_tensor,weights='imagenet',include_top=False)\n",
        "\n",
        "for layer in base_model.layers:\n",
        "    layer.trainable=False\n",
        "\n",
        "x = base_model.output\n",
        "x = tf.keras.layers.GlobalAveragePooling2D(data_format='channels_last')(x)\n",
        "x = tf.keras.layers.Dense(7, activation='softmax')(x)\n",
        "\n",
        "updatedModel = Model(base_model.input, x)\n"
      ],
      "execution_count": 0,
      "outputs": []
    },
    {
      "cell_type": "code",
      "metadata": {
        "id": "RVHo9O4t45Rn",
        "colab_type": "code",
        "colab": {}
      },
      "source": [
        "from tensorflow.keras import optimizers\n",
        "\n",
        "updatedModel.compile(loss='sparse_categorical_crossentropy',\n",
        "              optimizer=optimizers.Adam(lr=1e-3),\n",
        "              metrics=['accuracy'])"
      ],
      "execution_count": 0,
      "outputs": []
    },
    {
      "cell_type": "code",
      "metadata": {
        "id": "d_Avfjdw45Rt",
        "colab_type": "code",
        "outputId": "b7b2c7ed-ba76-4539-b70b-236631b54407",
        "colab": {
          "base_uri": "https://localhost:8080/",
          "height": 55
        }
      },
      "source": [
        "train_datagen = tf.keras.preprocessing.image.ImageDataGenerator(\n",
        "        rescale=1./255,\n",
        "        horizontal_flip=True)\n",
        "\n",
        "test_datagen = tf.keras.preprocessing.image.ImageDataGenerator(\n",
        "        rescale=1./255,\n",
        "        horizontal_flip=True)\n",
        "\n",
        "train_generator = train_datagen.flow_from_directory(\n",
        "    directory=r\"histo_rep/Train/\",\n",
        "    target_size=(256, 192),\n",
        "    color_mode=\"rgb\",\n",
        "    batch_size=32,\n",
        "    class_mode=\"sparse\",\n",
        "    shuffle=True,\n",
        "    seed=42\n",
        ")\n",
        "\n",
        "test_generator = test_datagen.flow_from_directory(\n",
        "    directory=r\"histo_rep/Test/\",\n",
        "    target_size=(256, 192),\n",
        "    color_mode=\"rgb\",\n",
        "    batch_size=32,\n",
        "    class_mode=\"sparse\",\n",
        "    shuffle=True,\n",
        "    seed=42\n",
        ")"
      ],
      "execution_count": 12,
      "outputs": [
        {
          "output_type": "stream",
          "text": [
            "Found 363 images belonging to 7 classes.\n",
            "Found 81 images belonging to 7 classes.\n"
          ],
          "name": "stdout"
        }
      ]
    },
    {
      "cell_type": "code",
      "metadata": {
        "id": "_Pgph7xW45R1",
        "colab_type": "code",
        "outputId": "13198659-ca79-495d-ef0f-1ce5bb428620",
        "colab": {
          "base_uri": "https://localhost:8080/",
          "height": 416
        }
      },
      "source": [
        "STEP_SIZE_TRAIN=train_generator.n//train_generator.batch_size\n",
        "STEP_SIZE_VALID=test_generator.n//test_generator.batch_size\n",
        "\n",
        "updatedModel.fit_generator(generator=train_generator,\n",
        "                    steps_per_epoch=STEP_SIZE_TRAIN,\n",
        "                    validation_data=test_generator,\n",
        "                    validation_steps=STEP_SIZE_VALID,\n",
        "                    epochs=10)"
      ],
      "execution_count": 13,
      "outputs": [
        {
          "output_type": "stream",
          "text": [
            "Epoch 1/10\n",
            "11/11 [==============================] - 7s 630ms/step - loss: 1.2516 - accuracy: 0.5921 - val_loss: 2.1629 - val_accuracy: 0.1094\n",
            "Epoch 2/10\n",
            "11/11 [==============================] - 2s 191ms/step - loss: 0.3785 - accuracy: 0.9456 - val_loss: 2.1055 - val_accuracy: 0.1094\n",
            "Epoch 3/10\n",
            "11/11 [==============================] - 2s 213ms/step - loss: 0.1440 - accuracy: 0.9758 - val_loss: 2.1182 - val_accuracy: 0.1250\n",
            "Epoch 4/10\n",
            "11/11 [==============================] - 2s 223ms/step - loss: 0.0796 - accuracy: 0.9972 - val_loss: 2.1529 - val_accuracy: 0.1094\n",
            "Epoch 5/10\n",
            "11/11 [==============================] - 2s 187ms/step - loss: 0.0726 - accuracy: 0.9935 - val_loss: 2.1748 - val_accuracy: 0.1094\n",
            "Epoch 6/10\n",
            "11/11 [==============================] - 2s 190ms/step - loss: 0.0611 - accuracy: 0.9970 - val_loss: 2.1774 - val_accuracy: 0.1250\n",
            "Epoch 7/10\n",
            "11/11 [==============================] - 2s 180ms/step - loss: 0.0412 - accuracy: 1.0000 - val_loss: 2.2225 - val_accuracy: 0.1094\n",
            "Epoch 8/10\n",
            "11/11 [==============================] - 2s 195ms/step - loss: 0.0637 - accuracy: 0.9940 - val_loss: 2.2309 - val_accuracy: 0.1094\n",
            "Epoch 9/10\n",
            "11/11 [==============================] - 2s 193ms/step - loss: 0.0321 - accuracy: 1.0000 - val_loss: 2.2309 - val_accuracy: 0.1094\n",
            "Epoch 10/10\n",
            "11/11 [==============================] - 2s 177ms/step - loss: 0.0272 - accuracy: 1.0000 - val_loss: 2.2455 - val_accuracy: 0.1094\n"
          ],
          "name": "stdout"
        },
        {
          "output_type": "execute_result",
          "data": {
            "text/plain": [
              "<tensorflow.python.keras.callbacks.History at 0x7fcb77c0e9e8>"
            ]
          },
          "metadata": {
            "tags": []
          },
          "execution_count": 13
        }
      ]
    },
    {
      "cell_type": "code",
      "metadata": {
        "id": "NOd7EuFECp6y",
        "colab_type": "code",
        "colab": {}
      },
      "source": [
        ""
      ],
      "execution_count": 0,
      "outputs": []
    }
  ]
}